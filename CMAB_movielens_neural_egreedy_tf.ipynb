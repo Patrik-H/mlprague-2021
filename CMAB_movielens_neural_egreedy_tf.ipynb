{
  "nbformat": 4,
  "nbformat_minor": 0,
  "metadata": {
    "colab": {
      "name": "CMAB_movielens_neural_egreedy_tf.ipynb",
      "provenance": [],
      "authorship_tag": "ABX9TyO9d7erDGWKyOVrg7hCFSjT",
      "include_colab_link": true
    },
    "kernelspec": {
      "display_name": "Python 3",
      "name": "python3"
    },
    "widgets": {
      "application/vnd.jupyter.widget-state+json": {
        "1261e59ebd3d49d8b270d7c837fb7fed": {
          "model_module": "@jupyter-widgets/controls",
          "model_name": "HBoxModel",
          "state": {
            "_view_name": "HBoxView",
            "_dom_classes": [],
            "_model_name": "HBoxModel",
            "_view_module": "@jupyter-widgets/controls",
            "_model_module_version": "1.5.0",
            "_view_count": null,
            "_view_module_version": "1.5.0",
            "box_style": "",
            "layout": "IPY_MODEL_e67555d9fdb5477fbf6270c1f4891377",
            "_model_module": "@jupyter-widgets/controls",
            "children": [
              "IPY_MODEL_e9ae972e577e469da02b8fdab558aa50",
              "IPY_MODEL_92d87dae3bfe4777bfaf17950c1922fd"
            ]
          }
        },
        "e67555d9fdb5477fbf6270c1f4891377": {
          "model_module": "@jupyter-widgets/base",
          "model_name": "LayoutModel",
          "state": {
            "_view_name": "LayoutView",
            "grid_template_rows": null,
            "right": null,
            "justify_content": null,
            "_view_module": "@jupyter-widgets/base",
            "overflow": null,
            "_model_module_version": "1.2.0",
            "_view_count": null,
            "flex_flow": null,
            "width": null,
            "min_width": null,
            "border": null,
            "align_items": null,
            "bottom": null,
            "_model_module": "@jupyter-widgets/base",
            "top": null,
            "grid_column": null,
            "overflow_y": null,
            "overflow_x": null,
            "grid_auto_flow": null,
            "grid_area": null,
            "grid_template_columns": null,
            "flex": null,
            "_model_name": "LayoutModel",
            "justify_items": null,
            "grid_row": null,
            "max_height": null,
            "align_content": null,
            "visibility": null,
            "align_self": null,
            "height": null,
            "min_height": null,
            "padding": null,
            "grid_auto_rows": null,
            "grid_gap": null,
            "max_width": null,
            "order": null,
            "_view_module_version": "1.2.0",
            "grid_template_areas": null,
            "object_position": null,
            "object_fit": null,
            "grid_auto_columns": null,
            "margin": null,
            "display": null,
            "left": null
          }
        },
        "e9ae972e577e469da02b8fdab558aa50": {
          "model_module": "@jupyter-widgets/controls",
          "model_name": "FloatProgressModel",
          "state": {
            "_view_name": "ProgressView",
            "style": "IPY_MODEL_eb566773eb734a5d9fd9e8071b5faf0a",
            "_dom_classes": [],
            "description": "100%",
            "_model_name": "FloatProgressModel",
            "bar_style": "success",
            "max": 1500,
            "_view_module": "@jupyter-widgets/controls",
            "_model_module_version": "1.5.0",
            "value": 1500,
            "_view_count": null,
            "_view_module_version": "1.5.0",
            "orientation": "horizontal",
            "min": 0,
            "description_tooltip": null,
            "_model_module": "@jupyter-widgets/controls",
            "layout": "IPY_MODEL_e06aafca5a8e4daf850c8f17e1405f99"
          }
        },
        "92d87dae3bfe4777bfaf17950c1922fd": {
          "model_module": "@jupyter-widgets/controls",
          "model_name": "HTMLModel",
          "state": {
            "_view_name": "HTMLView",
            "style": "IPY_MODEL_0d014939a54a44ae89e29b2df6daa80d",
            "_dom_classes": [],
            "description": "",
            "_model_name": "HTMLModel",
            "placeholder": "​",
            "_view_module": "@jupyter-widgets/controls",
            "_model_module_version": "1.5.0",
            "value": " 1500/1500 [36:41&lt;00:00,  1.47s/it]",
            "_view_count": null,
            "_view_module_version": "1.5.0",
            "description_tooltip": null,
            "_model_module": "@jupyter-widgets/controls",
            "layout": "IPY_MODEL_51037d9cc687444b9b4124a56c8e558c"
          }
        },
        "eb566773eb734a5d9fd9e8071b5faf0a": {
          "model_module": "@jupyter-widgets/controls",
          "model_name": "ProgressStyleModel",
          "state": {
            "_view_name": "StyleView",
            "_model_name": "ProgressStyleModel",
            "description_width": "initial",
            "_view_module": "@jupyter-widgets/base",
            "_model_module_version": "1.5.0",
            "_view_count": null,
            "_view_module_version": "1.2.0",
            "bar_color": null,
            "_model_module": "@jupyter-widgets/controls"
          }
        },
        "e06aafca5a8e4daf850c8f17e1405f99": {
          "model_module": "@jupyter-widgets/base",
          "model_name": "LayoutModel",
          "state": {
            "_view_name": "LayoutView",
            "grid_template_rows": null,
            "right": null,
            "justify_content": null,
            "_view_module": "@jupyter-widgets/base",
            "overflow": null,
            "_model_module_version": "1.2.0",
            "_view_count": null,
            "flex_flow": null,
            "width": null,
            "min_width": null,
            "border": null,
            "align_items": null,
            "bottom": null,
            "_model_module": "@jupyter-widgets/base",
            "top": null,
            "grid_column": null,
            "overflow_y": null,
            "overflow_x": null,
            "grid_auto_flow": null,
            "grid_area": null,
            "grid_template_columns": null,
            "flex": null,
            "_model_name": "LayoutModel",
            "justify_items": null,
            "grid_row": null,
            "max_height": null,
            "align_content": null,
            "visibility": null,
            "align_self": null,
            "height": null,
            "min_height": null,
            "padding": null,
            "grid_auto_rows": null,
            "grid_gap": null,
            "max_width": null,
            "order": null,
            "_view_module_version": "1.2.0",
            "grid_template_areas": null,
            "object_position": null,
            "object_fit": null,
            "grid_auto_columns": null,
            "margin": null,
            "display": null,
            "left": null
          }
        },
        "0d014939a54a44ae89e29b2df6daa80d": {
          "model_module": "@jupyter-widgets/controls",
          "model_name": "DescriptionStyleModel",
          "state": {
            "_view_name": "StyleView",
            "_model_name": "DescriptionStyleModel",
            "description_width": "",
            "_view_module": "@jupyter-widgets/base",
            "_model_module_version": "1.5.0",
            "_view_count": null,
            "_view_module_version": "1.2.0",
            "_model_module": "@jupyter-widgets/controls"
          }
        },
        "51037d9cc687444b9b4124a56c8e558c": {
          "model_module": "@jupyter-widgets/base",
          "model_name": "LayoutModel",
          "state": {
            "_view_name": "LayoutView",
            "grid_template_rows": null,
            "right": null,
            "justify_content": null,
            "_view_module": "@jupyter-widgets/base",
            "overflow": null,
            "_model_module_version": "1.2.0",
            "_view_count": null,
            "flex_flow": null,
            "width": null,
            "min_width": null,
            "border": null,
            "align_items": null,
            "bottom": null,
            "_model_module": "@jupyter-widgets/base",
            "top": null,
            "grid_column": null,
            "overflow_y": null,
            "overflow_x": null,
            "grid_auto_flow": null,
            "grid_area": null,
            "grid_template_columns": null,
            "flex": null,
            "_model_name": "LayoutModel",
            "justify_items": null,
            "grid_row": null,
            "max_height": null,
            "align_content": null,
            "visibility": null,
            "align_self": null,
            "height": null,
            "min_height": null,
            "padding": null,
            "grid_auto_rows": null,
            "grid_gap": null,
            "max_width": null,
            "order": null,
            "_view_module_version": "1.2.0",
            "grid_template_areas": null,
            "object_position": null,
            "object_fit": null,
            "grid_auto_columns": null,
            "margin": null,
            "display": null,
            "left": null
          }
        }
      }
    }
  },
  "cells": [
    {
      "cell_type": "markdown",
      "metadata": {
        "id": "view-in-github",
        "colab_type": "text"
      },
      "source": [
        "<a href=\"https://colab.research.google.com/github/pstanisl/mlprague-2021/blob/main/CMAB_movielens_neural_egreedy_tf.ipynb\" target=\"_parent\"><img src=\"https://colab.research.google.com/assets/colab-badge.svg\" alt=\"Open In Colab\"/></a>"
      ]
    },
    {
      "cell_type": "code",
      "metadata": {
        "id": "qbVPxLuUR25T"
      },
      "source": [
        "!pip install tf-agents -q"
      ],
      "execution_count": 1,
      "outputs": []
    },
    {
      "cell_type": "code",
      "metadata": {
        "colab": {
          "base_uri": "https://localhost:8080/"
        },
        "id": "P2MMqktAoX5e",
        "outputId": "d6730149-86d4-46a1-ac17-2c6f2ce4f7de"
      },
      "source": [
        "!rm -f ./utils.py\n",
        "!wget --no-check-certificate --no-cache --no-cookies \\\n",
        "    https://raw.githubusercontent.com/pstanisl/mlprague-2021/main/utils.py \\\n",
        "    -O ./utils.py"
      ],
      "execution_count": 2,
      "outputs": [
        {
          "output_type": "stream",
          "text": [
            "--2021-02-19 11:50:06--  https://raw.githubusercontent.com/pstanisl/mlprague-2021/main/utils.py\n",
            "Resolving raw.githubusercontent.com (raw.githubusercontent.com)... 185.199.108.133, 185.199.109.133, 185.199.110.133, ...\n",
            "Connecting to raw.githubusercontent.com (raw.githubusercontent.com)|185.199.108.133|:443... connected.\n",
            "HTTP request sent, awaiting response... 200 OK\n",
            "Length: 3657 (3.6K) [text/plain]\n",
            "Saving to: ‘./utils.py’\n",
            "\n",
            "./utils.py          100%[===================>]   3.57K  --.-KB/s    in 0s      \n",
            "\n",
            "2021-02-19 11:50:07 (33.3 MB/s) - ‘./utils.py’ saved [3657/3657]\n",
            "\n"
          ],
          "name": "stdout"
        }
      ]
    },
    {
      "cell_type": "code",
      "metadata": {
        "id": "rUEquHXHRwwB"
      },
      "source": [
        "import functools\n",
        "import matplotlib.pyplot as plt\n",
        "import numpy as np\n",
        "import random\n",
        "import tensorflow as tf  # pylint: disable=g-explicit-tensorflow-version-import\n",
        "import tensorflow_probability as tfp\n",
        "import zipfile\n",
        "\n",
        "from tqdm.notebook import trange\n",
        "from typing import Optional, Sequence, Text, Tuple\n",
        "\n",
        "from tf_agents.bandits.agents import linear_bandit_agent as lin_agent\n",
        "from tf_agents.bandits.environments import environment_utilities\n",
        "from tf_agents.bandits.environments import bandit_py_environment\n",
        "from tf_agents.bandits.metrics import tf_metrics as tf_bandit_metrics\n",
        "from tf_agents.bandits.policies import linalg\n",
        "from tf_agents.bandits.policies import linear_bandit_policy\n",
        "from tf_agents.bandits.policies import policy_utilities\n",
        "from tf_agents.drivers import dynamic_step_driver\n",
        "from tf_agents.environments import tf_py_environment\n",
        "from tf_agents.replay_buffers import tf_uniform_replay_buffer\n",
        "from tf_agents.specs import array_spec\n",
        "from tf_agents.trajectories import policy_step\n",
        "from tf_agents.trajectories import time_step as ts\n",
        "from tf_agents.typing import types\n",
        "\n",
        "from utils import load_movielens_data, plot_regret"
      ],
      "execution_count": 3,
      "outputs": []
    },
    {
      "cell_type": "code",
      "metadata": {
        "colab": {
          "base_uri": "https://localhost:8080/"
        },
        "id": "r8_xdGprnyqb",
        "outputId": "dd939936-d854-4f64-8688-22bd50e53ea4"
      },
      "source": [
        "print(\"Downloading movielens data...\")\n",
        "\n",
        "!wget --no-check-certificate \\\n",
        "    http://files.grouplens.org/datasets/movielens/ml-100k.zip \\\n",
        "    -O ./movielens.zip\n",
        "\n",
        "zip_ref = zipfile.ZipFile('movielens.zip', \"r\")\n",
        "zip_ref.extractall()\n",
        "\n",
        "print(\"Done. Dataset contains:\")\n",
        "print(zip_ref.read('ml-100k/u.info').decode())"
      ],
      "execution_count": 4,
      "outputs": [
        {
          "output_type": "stream",
          "text": [
            "Downloading movielens data...\n",
            "--2021-02-19 11:50:10--  http://files.grouplens.org/datasets/movielens/ml-100k.zip\n",
            "Resolving files.grouplens.org (files.grouplens.org)... 128.101.65.152\n",
            "Connecting to files.grouplens.org (files.grouplens.org)|128.101.65.152|:80... connected.\n",
            "HTTP request sent, awaiting response... 200 OK\n",
            "Length: 4924029 (4.7M) [application/zip]\n",
            "Saving to: ‘./movielens.zip’\n",
            "\n",
            "./movielens.zip     100%[===================>]   4.70M  1.20MB/s    in 4.6s    \n",
            "\n",
            "2021-02-19 11:50:15 (1.02 MB/s) - ‘./movielens.zip’ saved [4924029/4924029]\n",
            "\n",
            "Done. Dataset contains:\n",
            "943 users\n",
            "1682 items\n",
            "100000 ratings\n",
            "\n"
          ],
          "name": "stdout"
        }
      ]
    },
    {
      "cell_type": "code",
      "metadata": {
        "id": "D2Tf9d1NcbF9"
      },
      "source": [
        "EPSILON = 0.05 # @param {type: \"number\"}\n",
        "LR = 0.005 # @param {type: \"number\"}\n",
        "NUM_ACTIONS = 20 # @param {type:\"integer\"}\n",
        "RANK_K = 20 # @param {type:\"integer\"}\n",
        "LAYERS = (50, 50, 50)"
      ],
      "execution_count": 5,
      "outputs": []
    },
    {
      "cell_type": "markdown",
      "metadata": {
        "id": "HvFAsPqLlmKQ"
      },
      "source": [
        "## Environment"
      ]
    },
    {
      "cell_type": "code",
      "metadata": {
        "id": "jW6QuzcKX8gq"
      },
      "source": [
        "class MovieLensPyEnvironment(bandit_py_environment.BanditPyEnvironment):\n",
        "  \"\"\"Implements the MovieLens Bandit environment.\n",
        "  This environment implements the MovieLens 100K dataset, available at:\n",
        "  https://www.kaggle.com/prajitdatta/movielens-100k-dataset\n",
        "  This dataset contains 100K ratings from 943 users on 1682 items.\n",
        "  This csv list of:\n",
        "  user id | item id | rating | timestamp.\n",
        "  This environment computes a low-rank matrix factorization (using SVD) of the\n",
        "  data matrix A, such that: A ~= U * V.\n",
        "  The reward of recommending item `j` to user `i` is provided as A_{ij}.\n",
        "  \"\"\"\n",
        "\n",
        "  def __init__(self,\n",
        "               data_dir: Text,\n",
        "               rank_k: int,\n",
        "               batch_size: int = 1,\n",
        "               num_movies: int = 20,\n",
        "               name: Optional[Text] = 'movielens'):\n",
        "    \"\"\"Initializes the MovieLens Bandit environment.\n",
        "    Args:\n",
        "      data_dir: (string) Directory where the data lies (in text form).\n",
        "      rank_k : (int) Which rank to use in the matrix factorization.\n",
        "      batch_size: (int) Number of observations generated per call.\n",
        "      num_movies: (int) Only the first `num_movies` movies will be used by the\n",
        "        environment. The rest is cut out from the data.\n",
        "      name: The name of this environment instance.\n",
        "    \"\"\"\n",
        "    self._num_actions = num_movies\n",
        "    self._batch_size = batch_size\n",
        "    self._context_dim = rank_k\n",
        "\n",
        "    # Compute the matrix factorization.\n",
        "    #self._data_matrix = dataset_utilities.load_movielens_data(data_dir)\n",
        "    self._data_matrix = load_movielens_data(data_dir)\n",
        "    # Keep only the first items.\n",
        "    self._data_matrix = self._data_matrix[:, :num_movies]\n",
        "    # Filter the users with no iterm rated.\n",
        "    nonzero_users = list(np.nonzero(np.sum(self._data_matrix, axis=1) > 0.0)[0])\n",
        "    self._data_matrix = self._data_matrix[nonzero_users, :]\n",
        "    self._effective_num_users = len(nonzero_users)\n",
        "\n",
        "    # Compute the SVD.\n",
        "    u, s, vh = np.linalg.svd(self._data_matrix, full_matrices=False)\n",
        "\n",
        "    # Keep only the largest singular values.\n",
        "    self._u_hat = u[:, :rank_k] * np.sqrt(s[:rank_k])\n",
        "    self._v_hat = np.transpose(\n",
        "        np.transpose(vh[:rank_k, :]) * np.sqrt(s[:rank_k]))\n",
        "    self._approx_ratings_matrix = np.matmul(self._u_hat, self._v_hat)\n",
        "\n",
        "    self._current_users = np.zeros(batch_size, dtype=np.int32)\n",
        "    self._previous_users = np.zeros(batch_size, dtype=np.int32)\n",
        "\n",
        "    self._action_spec = array_spec.BoundedArraySpec(\n",
        "        shape=(),\n",
        "        dtype=np.int32,\n",
        "        minimum=0,\n",
        "        maximum=self._num_actions - 1,\n",
        "        name='action')\n",
        "    observation_spec = array_spec.ArraySpec(\n",
        "        shape=(self._context_dim,), dtype=np.float64, name='observation')\n",
        "    self._time_step_spec = ts.time_step_spec(observation_spec)\n",
        "    self._observation = np.zeros((self._batch_size, self._context_dim))\n",
        "\n",
        "    self._optimal_action_table = np.argmax(\n",
        "        self._approx_ratings_matrix, axis=1)\n",
        "    self._optimal_reward_table = np.max(\n",
        "        self._approx_ratings_matrix, axis=1)\n",
        "\n",
        "    super(MovieLensPyEnvironment, self).__init__(\n",
        "        observation_spec, self._action_spec)\n",
        "\n",
        "  @property\n",
        "  def batch_size(self):\n",
        "    return self._batch_size\n",
        "\n",
        "  @property\n",
        "  def batched(self):\n",
        "    return True\n",
        "\n",
        "  def _observe(self):\n",
        "    \"\"\"Returns the u vectors of a random sample of users.\"\"\"\n",
        "    sampled_users = random.sample(\n",
        "        range(self._effective_num_users), self._batch_size)\n",
        "    self._previous_users = self._current_users\n",
        "    self._current_users = sampled_users\n",
        "    batched_observations = self._u_hat[sampled_users]\n",
        "    return batched_observations\n",
        "\n",
        "  def _apply_action(self, action):\n",
        "    \"\"\"Computes the reward for the input actions.\"\"\"\n",
        "    rewards = []\n",
        "    for i, j in zip(self._current_users, action):\n",
        "      rewards.append(self._approx_ratings_matrix[i, j])\n",
        "    return np.array(rewards)\n",
        "\n",
        "  def compute_optimal_action(self):\n",
        "    return self._optimal_action_table[self._previous_users]\n",
        "\n",
        "  def compute_optimal_reward(self):\n",
        "    return self._optimal_reward_table[self._previous_users]"
      ],
      "execution_count": 6,
      "outputs": []
    },
    {
      "cell_type": "code",
      "metadata": {
        "id": "JWLNxLEiT05z"
      },
      "source": [
        "env = MovieLensPyEnvironment('./ml-100k/u.data', RANK_K, 8, num_movies=NUM_ACTIONS)\n",
        "tf_env = tf_py_environment.TFPyEnvironment(env)"
      ],
      "execution_count": 7,
      "outputs": []
    },
    {
      "cell_type": "code",
      "metadata": {
        "colab": {
          "base_uri": "https://localhost:8080/"
        },
        "id": "vcRZbsaSUCEh",
        "outputId": "5338ab04-eae2-404d-83ec-60a9a6fa90c1"
      },
      "source": [
        "print('Observation spec:', tf_env.observation_spec())\n",
        "print('An observation: ', tf_env.reset().observation.numpy())\n",
        "\n",
        "action = tf.zeros(8, dtype=tf.int32)\n",
        "time_step = tf_env.step(action)\n",
        "\n",
        "print()\n",
        "print(f'Action={action.numpy()} (optimal={tf_env.compute_optimal_action()})')\n",
        "print(f'Reward={time_step.reward.numpy()} (optimal={tf_env.compute_optimal_reward()})')"
      ],
      "execution_count": 8,
      "outputs": [
        {
          "output_type": "stream",
          "text": [
            "Observation spec: TensorSpec(shape=(20,), dtype=tf.float64, name='observation')\n",
            "An observation:  [[-0.14883792 -0.04431084  0.22076509 -0.0125773   0.04131578  0.17447199\n",
            "   0.23493386 -0.26793497 -0.64160928 -0.07838601  0.24743926  0.09770352\n",
            "   0.13737959 -0.03368647  0.07508608  0.04434388  0.03151612  0.01538255\n",
            "   0.01785643  0.00760071]\n",
            " [-1.02252902  0.0666895   0.36221967  0.21164546  0.03119496  0.05922605\n",
            "   0.00485691  0.01766981 -0.04175166  0.13856775 -0.01022762 -0.00339823\n",
            "   0.35015547 -0.15675617  0.51272705  0.06768021  0.26815572 -0.09848613\n",
            "   0.07496847  0.04282152]\n",
            " [-0.34975242 -0.14233452 -0.325286   -0.37786462 -0.03753306 -0.04993151\n",
            "   0.00220592 -0.20532061 -0.4576634  -0.3168773   0.16701471  0.18112139\n",
            "  -0.03094724 -0.0865134   0.02711735  0.02917816  0.03372017  0.01922344\n",
            "  -0.04578578 -0.02851235]\n",
            " [-0.35433705  0.26887004  0.37997586 -0.38183762 -0.23337772 -0.35061013\n",
            "  -0.00206509  0.02868038 -0.22650194  0.3611396   0.17306651  0.07552773\n",
            "   0.17388556 -0.03495665  0.03130515 -0.01563877  0.01897652  0.00418852\n",
            "   0.02725811 -0.0050739 ]\n",
            " [-0.0752694  -0.12903156  0.00781568  0.08578059  0.05606446  0.03897313\n",
            "   0.08740282 -0.26545627  0.24776307  0.28458324 -0.00399824  0.33361757\n",
            "  -0.18218336  0.11106899  0.05009994 -0.02212057  0.0361975  -0.00827429\n",
            "  -0.03791898 -0.00291373]\n",
            " [-0.32646213 -0.36036492  0.09685858 -0.1839359   0.0638367   0.29537508\n",
            "  -0.04189132  0.42461544  0.36334307  0.04111433  0.05514233 -0.17898856\n",
            "   0.34086254 -0.53105531 -0.25191254 -0.0237213   0.01549304 -0.04241697\n",
            "   0.11254539  0.03025816]\n",
            " [-0.1659473  -0.31777046 -0.02872319  0.09491137 -0.04453977  0.08166697\n",
            "   0.18566976 -0.52460772 -0.07961487 -0.04534269  0.09180761  0.40517866\n",
            "  -0.18377422  0.05520281  0.06129578  0.02042324  0.04967504  0.01415842\n",
            "  -0.05767922 -0.00424236]\n",
            " [-1.16296873  0.31646436  0.58790221 -0.2010547   0.12817519  0.60870883\n",
            "   0.34531817 -0.18424855  0.31509734  0.00423784 -0.5355909  -0.81083992\n",
            "  -0.40258949  0.03335084 -0.21348634 -0.14021067  0.09615506  0.88595913\n",
            "  -0.74008209 -0.97233487]]\n",
            "\n",
            "Action=[0 0 0 0 0 0 0 0] (optimal=[13 13 10  8  3 11  3  0])\n",
            "Reward=[7.0239483e-15 4.0000000e+00 3.0000000e+00 1.0000000e+00 4.2324784e-15\n",
            " 1.7649880e-14 9.3226699e-15 5.0000000e+00] (optimal=[4. 5. 5. 5. 4. 5. 4. 5.])\n"
          ],
          "name": "stdout"
        }
      ]
    },
    {
      "cell_type": "markdown",
      "metadata": {
        "id": "qTjTE8ThV85o"
      },
      "source": [
        "## Policy"
      ]
    },
    {
      "cell_type": "code",
      "metadata": {
        "id": "10eDwxGDV-n6"
      },
      "source": [
        "    "
      ],
      "execution_count": 8,
      "outputs": []
    },
    {
      "cell_type": "markdown",
      "metadata": {
        "id": "Uo3YPdpkxYsr"
      },
      "source": [
        "## Agent"
      ]
    },
    {
      "cell_type": "code",
      "metadata": {
        "id": "dY1MQN-vJlfP"
      },
      "source": [
        "from tf_agents.bandits.agents import neural_epsilon_greedy_agent as eps_greedy_agent\n",
        "from tf_agents.networks import q_network\n",
        "from tf_agents.networks import network\n",
        "from tf_agents.networks import utils\n",
        "from tf_agents.utils import nest_utils\n",
        "\n",
        "from tensorflow.python.util import nest"
      ],
      "execution_count": 9,
      "outputs": []
    },
    {
      "cell_type": "code",
      "metadata": {
        "id": "V-udQcXMjp7s"
      },
      "source": [
        "class QNetwork(network.Network):\n",
        "  \"\"\"Simplified implementation of q_network.QNetwork from tf-agents\"\"\"\n",
        "\n",
        "  def __init__(self,\n",
        "               input_tensor_spec,\n",
        "               action_spec,\n",
        "               activation_fn=tf.keras.activations.relu,\n",
        "               batch_squash=True,\n",
        "               dtype=tf.float32,\n",
        "               name='QNetwork'):\n",
        "    \"\"\"Creates an instance of `QNetwork`.\n",
        "\n",
        "    Args:\n",
        "      input_tensor_spec: A nest of `tensor_spec.TensorSpec` representing the\n",
        "        input observations.\n",
        "      action_spec: A nest of `tensor_spec.BoundedTensorSpec` representing the\n",
        "        actions.\n",
        "      activation_fn: Activation function, e.g. tf.keras.activations.relu.\n",
        "      batch_squash: If True the outer_ranks of the observation are squashed into\n",
        "        the batch dimension. This allow encoding networks to be used with\n",
        "        observations with shape [BxTx...].\n",
        "      dtype: The dtype to use by the convolution and fully connected layers.\n",
        "      name: A string representing the name of the network.\n",
        "\n",
        "    Raises:\n",
        "      ValueError: If `input_tensor_spec` contains more than one observation. Or\n",
        "        if `action_spec` contains more than one action.\n",
        "    \"\"\"\n",
        "    q_network.validate_specs(action_spec, input_tensor_spec)\n",
        "    action_spec = tf.nest.flatten(action_spec)[0]\n",
        "    num_actions = action_spec.maximum - action_spec.minimum + 1\n",
        "\n",
        "    kernel_initializer = tf.compat.v1.variance_scaling_initializer(\n",
        "        scale=2.0, mode='fan_in', distribution='truncated_normal')\n",
        "    \n",
        "    # Create encoder part\n",
        "    layers = []\n",
        "    layers.append(tf.keras.layers.Flatten())\n",
        "    layers.append(tf.keras.layers.Dense(\n",
        "        50,\n",
        "        activation=activation_fn,\n",
        "        kernel_initializer=kernel_initializer,\n",
        "        dtype=dtype))\n",
        "    layers.append(tf.keras.layers.Dense(\n",
        "        50,\n",
        "        activation=activation_fn,\n",
        "        kernel_initializer=kernel_initializer,\n",
        "        dtype=dtype))\n",
        "    layers.append(tf.keras.layers.Dense(\n",
        "        50,\n",
        "        activation=activation_fn,\n",
        "        kernel_initializer=kernel_initializer,\n",
        "        dtype=dtype))\n",
        "    # Create Q part\n",
        "    q_value_layer = tf.keras.layers.Dense(\n",
        "        num_actions,\n",
        "        activation=None,\n",
        "        kernel_initializer=tf.random_uniform_initializer(\n",
        "            minval=-0.03, maxval=0.03),\n",
        "        bias_initializer=tf.constant_initializer(-0.2),\n",
        "        dtype=dtype)\n",
        "\n",
        "    super(QNetwork, self).__init__(\n",
        "        input_tensor_spec=input_tensor_spec,\n",
        "        state_spec=(),\n",
        "        name=name)\n",
        "    \n",
        "    self._batch_squash = batch_squash\n",
        "    self.built = True  # Allow access to self.variables\n",
        "\n",
        "    self._encoder_layers = layers\n",
        "    self._q_value_layer = q_value_layer\n",
        "  \n",
        "  def call(self, observation, step_type=None, network_state=(), training=False):\n",
        "    \"\"\"Runs the given observation through the network.\n",
        "\n",
        "    Args:\n",
        "      observation: The observation to provide to the network.\n",
        "      step_type: The step type for the given observation. See `StepType` in\n",
        "        time_step.py.\n",
        "      network_state: A state tuple to pass to the network, mainly used by RNNs.\n",
        "      training: Whether the output is being used for training.\n",
        "\n",
        "    Returns:\n",
        "      A tuple `(logits, network_state)`.\n",
        "    \"\"\"\n",
        "    del step_type  # unused.\n",
        "\n",
        "    if self._batch_squash:\n",
        "      outer_rank = nest_utils.get_outer_rank(\n",
        "          observation, self.input_tensor_spec)\n",
        "      batch_squash = utils.BatchSquash(outer_rank)\n",
        "      observation = tf.nest.map_structure(batch_squash.flatten, observation)\n",
        "    \n",
        "    state = observation\n",
        "\n",
        "    for layer in self._encoder_layers:\n",
        "      state = layer(state, training=training)\n",
        "\n",
        "    if self._batch_squash:\n",
        "      state = tf.nest.map_structure(batch_squash.unflatten, state)\n",
        "\n",
        "    q_value = self._q_value_layer(state, training=training)\n",
        "\n",
        "    return q_value, network_state"
      ],
      "execution_count": 10,
      "outputs": []
    },
    {
      "cell_type": "code",
      "metadata": {
        "id": "uMo6hdUpD6hO"
      },
      "source": [
        "def get_agent(\n",
        "    environment, \n",
        "    layers: Tuple[int] = LAYERS, \n",
        "    lr: float = LR, \n",
        "    epsilon: float = EPSILON\n",
        "  ):\n",
        "\n",
        "  network = QNetwork(\n",
        "      input_tensor_spec=environment.time_step_spec().observation,\n",
        "      action_spec=environment.action_spec())\n",
        "  \n",
        "  return eps_greedy_agent.NeuralEpsilonGreedyAgent(\n",
        "      time_step_spec=environment.time_step_spec(),\n",
        "      action_spec=environment.action_spec(),\n",
        "      reward_network=network,\n",
        "      optimizer=tf.compat.v1.train.AdamOptimizer(learning_rate=lr),\n",
        "      epsilon=epsilon)"
      ],
      "execution_count": 11,
      "outputs": []
    },
    {
      "cell_type": "code",
      "metadata": {
        "id": "bG8LVv2rW1sK"
      },
      "source": [
        "agent = get_agent(tf_env, layers=LAYERS, lr=LR, epsilon=EPSILON)"
      ],
      "execution_count": 12,
      "outputs": []
    },
    {
      "cell_type": "code",
      "metadata": {
        "colab": {
          "base_uri": "https://localhost:8080/"
        },
        "id": "HPg7h-hIlTnx",
        "outputId": "c40756a5-0085-4d5c-a969-aa6b4c1e7ab3"
      },
      "source": [
        "print('training data spec: ', agent.training_data_spec)"
      ],
      "execution_count": 13,
      "outputs": [
        {
          "output_type": "stream",
          "text": [
            "training data spec:  Trajectory(step_type=TensorSpec(shape=(), dtype=tf.int32, name='step_type'), observation=TensorSpec(shape=(20,), dtype=tf.float64, name='observation'), action=BoundedTensorSpec(shape=(), dtype=tf.int32, name='action', minimum=array(0, dtype=int32), maximum=array(19, dtype=int32)), policy_info=PolicyInfo(log_probability=(), predicted_rewards_mean=(), predicted_rewards_optimistic=(), predicted_rewards_sampled=(), bandit_policy_type=()), next_step_type=TensorSpec(shape=(), dtype=tf.int32, name='step_type'), reward=TensorSpec(shape=(), dtype=tf.float32, name='reward'), discount=BoundedTensorSpec(shape=(), dtype=tf.float32, name='discount', minimum=array(0., dtype=float32), maximum=array(1., dtype=float32)))\n"
          ],
          "name": "stdout"
        }
      ]
    },
    {
      "cell_type": "code",
      "metadata": {
        "colab": {
          "base_uri": "https://localhost:8080/"
        },
        "id": "1ei7Ivo6lbzb",
        "outputId": "df60bf74-87bb-4332-c8b1-c056ce2c659b"
      },
      "source": [
        "print('observation spec in training: ', agent.training_data_spec.observation)"
      ],
      "execution_count": 14,
      "outputs": [
        {
          "output_type": "stream",
          "text": [
            "observation spec in training:  TensorSpec(shape=(20,), dtype=tf.float64, name='observation')\n"
          ],
          "name": "stdout"
        }
      ]
    },
    {
      "cell_type": "markdown",
      "metadata": {
        "id": "nDjYCtBUl2j4"
      },
      "source": [
        "## Experiment"
      ]
    },
    {
      "cell_type": "code",
      "metadata": {
        "id": "P5foepaVcv9Y"
      },
      "source": [
        "def run(\n",
        "    environment, \n",
        "    agent, \n",
        "    iterations, \n",
        "    steps_per_loop,\n",
        "    additional_metrics=()\n",
        "):\n",
        "  replay_buffer = tf_uniform_replay_buffer.TFUniformReplayBuffer(\n",
        "      data_spec=agent.policy.trajectory_spec,\n",
        "      batch_size=environment.batch_size,\n",
        "      max_length=steps_per_loop)\n",
        "  \n",
        "  metrics = [] + list(additional_metrics)\n",
        "  ret_metrics = dict([(m.name, []) for m in metrics])\n",
        "\n",
        "  observers = [replay_buffer.add_batch] + metrics\n",
        "\n",
        "  driver = dynamic_step_driver.DynamicStepDriver(\n",
        "      env=environment,\n",
        "      policy=agent.collect_policy,\n",
        "      num_steps=steps_per_loop * environment.batch_size,\n",
        "      observers=observers)\n",
        "\n",
        "  regret_values = []\n",
        "\n",
        "  for _ in trange(num_iterations):\n",
        "    driver.run()\n",
        "    loss_info = agent.train(replay_buffer.gather_all())\n",
        "    replay_buffer.clear()\n",
        "    # Log metrics value\n",
        "    for metric in metrics:\n",
        "      ret_metrics[metric.name].append(metric.result())\n",
        "\n",
        "  return ret_metrics"
      ],
      "execution_count": 15,
      "outputs": []
    },
    {
      "cell_type": "code",
      "metadata": {
        "id": "HTmTQNtQpk_a"
      },
      "source": [
        "def get_metrics(environment):\n",
        "  optimal_reward_fn = functools.partial(\n",
        "        environment_utilities.compute_optimal_reward_with_movielens_environment,\n",
        "        environment=tf_env)\n",
        "  optimal_action_fn = functools.partial(\n",
        "        environment_utilities.compute_optimal_action_with_movielens_environment,\n",
        "        environment=tf_env)\n",
        "  \n",
        "  regret_metric = tf_bandit_metrics.RegretMetric(\n",
        "      optimal_reward_fn, \n",
        "      name='regret'\n",
        "  )\n",
        "  suboptimal_arms_metric = tf_bandit_metrics.SuboptimalArmsMetric(\n",
        "      optimal_action_fn,\n",
        "      name='suboptimal_arms'\n",
        "  )\n",
        "  \n",
        "  return [regret_metric, suboptimal_arms_metric]"
      ],
      "execution_count": 16,
      "outputs": []
    },
    {
      "cell_type": "code",
      "metadata": {
        "colab": {
          "base_uri": "https://localhost:8080/",
          "height": 272,
          "referenced_widgets": [
            "1261e59ebd3d49d8b270d7c837fb7fed",
            "e67555d9fdb5477fbf6270c1f4891377",
            "e9ae972e577e469da02b8fdab558aa50",
            "92d87dae3bfe4777bfaf17950c1922fd",
            "eb566773eb734a5d9fd9e8071b5faf0a",
            "e06aafca5a8e4daf850c8f17e1405f99",
            "0d014939a54a44ae89e29b2df6daa80d",
            "51037d9cc687444b9b4124a56c8e558c"
          ]
        },
        "id": "9yxB1q29LqWV",
        "outputId": "cd05a2c3-142e-440b-83bd-383ae2d45034"
      },
      "source": [
        "batch_size =   128# @param {type:\"integer\"}\n",
        "num_iterations =   1500# @param {type:\"integer\"}\n",
        "steps_per_loop =   128# @param {type:\"integer\"}\n",
        "\n",
        "env = MovieLensPyEnvironment(\n",
        "    './ml-100k/u.data', \n",
        "    rank_k=RANK_K,\n",
        "    batch_size=batch_size, \n",
        "    num_movies=NUM_ACTIONS\n",
        ")\n",
        "tf_env = tf_py_environment.TFPyEnvironment(env)\n",
        "tf_env.reset()\n",
        "\n",
        "agent = get_agent(tf_env, layers=LAYERS, lr=LR, epsilon=EPSILON)\n",
        "\n",
        "additional_metrics = get_metrics(tf_env)\n",
        "\n",
        "metrics = run(\n",
        "    tf_env, \n",
        "    agent, \n",
        "    iterations=num_iterations,\n",
        "    steps_per_loop=steps_per_loop,\n",
        "    additional_metrics=additional_metrics\n",
        ")"
      ],
      "execution_count": 17,
      "outputs": [
        {
          "output_type": "display_data",
          "data": {
            "application/vnd.jupyter.widget-view+json": {
              "model_id": "1261e59ebd3d49d8b270d7c837fb7fed",
              "version_minor": 0,
              "version_major": 2
            },
            "text/plain": [
              "HBox(children=(FloatProgress(value=0.0, max=1500.0), HTML(value='')))"
            ]
          },
          "metadata": {
            "tags": []
          }
        },
        {
          "output_type": "stream",
          "text": [
            "WARNING:tensorflow:From /usr/local/lib/python3.6/dist-packages/tf_agents/drivers/dynamic_step_driver.py:203: calling while_loop_v2 (from tensorflow.python.ops.control_flow_ops) with back_prop=False is deprecated and will be removed in a future version.\n",
            "Instructions for updating:\n",
            "back_prop=False is deprecated. Consider using tf.stop_gradient instead.\n",
            "Instead of:\n",
            "results = tf.while_loop(c, b, vars, back_prop=False)\n",
            "Use:\n",
            "results = tf.nest.map_structure(tf.stop_gradient, tf.while_loop(c, b, vars))\n",
            "WARNING:tensorflow:From <ipython-input-15-f0fa4f3e72bf>:28: ReplayBuffer.gather_all (from tf_agents.replay_buffers.replay_buffer) is deprecated and will be removed in a future version.\n",
            "Instructions for updating:\n",
            "Use `as_dataset(..., single_deterministic_pass=True)` instead.\n",
            "\n"
          ],
          "name": "stdout"
        }
      ]
    },
    {
      "cell_type": "code",
      "metadata": {
        "colab": {
          "base_uri": "https://localhost:8080/",
          "height": 464
        },
        "id": "jqo41BBZXLZh",
        "outputId": "ee5de512-aa6c-4996-ad23-52427ae4795d"
      },
      "source": [
        "plot_regret(metrics['regret'], {'algorithm': 'NeuralEpsGreedy'})"
      ],
      "execution_count": 18,
      "outputs": [
        {
          "output_type": "display_data",
          "data": {
            "image/png": "[encoded data removed]",
            "text/plain": [
              "<Figure size 720x504 with 1 Axes>"
            ]
          },
          "metadata": {
            "tags": []
          }
        }
      ]
    },
    {
      "cell_type": "code",
      "metadata": {
        "colab": {
          "base_uri": "https://localhost:8080/",
          "height": 464
        },
        "id": "twY91LYsehYx",
        "outputId": "8acdcd04-868c-4d86-86e9-f1f6355adf8d"
      },
      "source": [
        "plt.figure(figsize=(10, 7))\n",
        "plt.plot(metrics['suboptimal_arms'])\n",
        "plt.title('Regret of LinUCB on the Linear per-arm environment')\n",
        "plt.xlabel('Number of Iterations')\n",
        "_ = plt.ylabel('Average Regret')"
      ],
      "execution_count": 19,
      "outputs": [
        {
          "output_type": "display_data",
          "data": {
            "image/png": "[encoded data removed]",
            "text/plain": [
              "<Figure size 720x504 with 1 Axes>"
            ]
          },
          "metadata": {
            "tags": []
          }
        }
      ]
    },
    {
      "cell_type": "code",
      "metadata": {
        "id": "XYdibk130cGM"
      },
      "source": [
        ""
      ],
      "execution_count": 19,
      "outputs": []
    }
  ]
}