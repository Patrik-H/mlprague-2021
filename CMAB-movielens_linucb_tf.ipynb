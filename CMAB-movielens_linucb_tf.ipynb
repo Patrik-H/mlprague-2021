{
  "nbformat": 4,
  "nbformat_minor": 0,
  "metadata": {
    "colab": {
      "name": "02-movielens_linucb_tf.ipynb",
      "provenance": [],
      "authorship_tag": "ABX9TyOPe+zuxEGUtkfA8HXnovKK",
      "include_colab_link": true
    },
    "kernelspec": {
      "display_name": "Python 3",
      "name": "python3"
    },
    "widgets": {
      "application/vnd.jupyter.widget-state+json": {
        "17bcad1554744efeb91a276cbafd2b4c": {
          "model_module": "@jupyter-widgets/controls",
          "model_name": "HBoxModel",
          "state": {
            "_view_name": "HBoxView",
            "_dom_classes": [],
            "_model_name": "HBoxModel",
            "_view_module": "@jupyter-widgets/controls",
            "_model_module_version": "1.5.0",
            "_view_count": null,
            "_view_module_version": "1.5.0",
            "box_style": "",
            "layout": "IPY_MODEL_e83a956dfe774a099bac1c2c514394cc",
            "_model_module": "@jupyter-widgets/controls",
            "children": [
              "IPY_MODEL_6628d03e88a94542bd1550e2a3276d51",
              "IPY_MODEL_e4e188dc21d044dbb92a4563e38bad7d"
            ]
          }
        },
        "e83a956dfe774a099bac1c2c514394cc": {
          "model_module": "@jupyter-widgets/base",
          "model_name": "LayoutModel",
          "state": {
            "_view_name": "LayoutView",
            "grid_template_rows": null,
            "right": null,
            "justify_content": null,
            "_view_module": "@jupyter-widgets/base",
            "overflow": null,
            "_model_module_version": "1.2.0",
            "_view_count": null,
            "flex_flow": null,
            "width": null,
            "min_width": null,
            "border": null,
            "align_items": null,
            "bottom": null,
            "_model_module": "@jupyter-widgets/base",
            "top": null,
            "grid_column": null,
            "overflow_y": null,
            "overflow_x": null,
            "grid_auto_flow": null,
            "grid_area": null,
            "grid_template_columns": null,
            "flex": null,
            "_model_name": "LayoutModel",
            "justify_items": null,
            "grid_row": null,
            "max_height": null,
            "align_content": null,
            "visibility": null,
            "align_self": null,
            "height": null,
            "min_height": null,
            "padding": null,
            "grid_auto_rows": null,
            "grid_gap": null,
            "max_width": null,
            "order": null,
            "_view_module_version": "1.2.0",
            "grid_template_areas": null,
            "object_position": null,
            "object_fit": null,
            "grid_auto_columns": null,
            "margin": null,
            "display": null,
            "left": null
          }
        },
        "6628d03e88a94542bd1550e2a3276d51": {
          "model_module": "@jupyter-widgets/controls",
          "model_name": "FloatProgressModel",
          "state": {
            "_view_name": "ProgressView",
            "style": "IPY_MODEL_e6a6f28b8b744ef0821e57898dad80b2",
            "_dom_classes": [],
            "description": "100%",
            "_model_name": "FloatProgressModel",
            "bar_style": "success",
            "max": 250,
            "_view_module": "@jupyter-widgets/controls",
            "_model_module_version": "1.5.0",
            "value": 250,
            "_view_count": null,
            "_view_module_version": "1.5.0",
            "orientation": "horizontal",
            "min": 0,
            "description_tooltip": null,
            "_model_module": "@jupyter-widgets/controls",
            "layout": "IPY_MODEL_a6b1bd8933d341768a39c1a86068d8ab"
          }
        },
        "e4e188dc21d044dbb92a4563e38bad7d": {
          "model_module": "@jupyter-widgets/controls",
          "model_name": "HTMLModel",
          "state": {
            "_view_name": "HTMLView",
            "style": "IPY_MODEL_2c7805fb11234b4b988074a27695003b",
            "_dom_classes": [],
            "description": "",
            "_model_name": "HTMLModel",
            "placeholder": "​",
            "_view_module": "@jupyter-widgets/controls",
            "_model_module_version": "1.5.0",
            "value": " 250/250 [21:48&lt;00:00,  5.23s/it]",
            "_view_count": null,
            "_view_module_version": "1.5.0",
            "description_tooltip": null,
            "_model_module": "@jupyter-widgets/controls",
            "layout": "IPY_MODEL_88cfe1f106dd414194a6f75eda61971d"
          }
        },
        "e6a6f28b8b744ef0821e57898dad80b2": {
          "model_module": "@jupyter-widgets/controls",
          "model_name": "ProgressStyleModel",
          "state": {
            "_view_name": "StyleView",
            "_model_name": "ProgressStyleModel",
            "description_width": "initial",
            "_view_module": "@jupyter-widgets/base",
            "_model_module_version": "1.5.0",
            "_view_count": null,
            "_view_module_version": "1.2.0",
            "bar_color": null,
            "_model_module": "@jupyter-widgets/controls"
          }
        },
        "a6b1bd8933d341768a39c1a86068d8ab": {
          "model_module": "@jupyter-widgets/base",
          "model_name": "LayoutModel",
          "state": {
            "_view_name": "LayoutView",
            "grid_template_rows": null,
            "right": null,
            "justify_content": null,
            "_view_module": "@jupyter-widgets/base",
            "overflow": null,
            "_model_module_version": "1.2.0",
            "_view_count": null,
            "flex_flow": null,
            "width": null,
            "min_width": null,
            "border": null,
            "align_items": null,
            "bottom": null,
            "_model_module": "@jupyter-widgets/base",
            "top": null,
            "grid_column": null,
            "overflow_y": null,
            "overflow_x": null,
            "grid_auto_flow": null,
            "grid_area": null,
            "grid_template_columns": null,
            "flex": null,
            "_model_name": "LayoutModel",
            "justify_items": null,
            "grid_row": null,
            "max_height": null,
            "align_content": null,
            "visibility": null,
            "align_self": null,
            "height": null,
            "min_height": null,
            "padding": null,
            "grid_auto_rows": null,
            "grid_gap": null,
            "max_width": null,
            "order": null,
            "_view_module_version": "1.2.0",
            "grid_template_areas": null,
            "object_position": null,
            "object_fit": null,
            "grid_auto_columns": null,
            "margin": null,
            "display": null,
            "left": null
          }
        },
        "2c7805fb11234b4b988074a27695003b": {
          "model_module": "@jupyter-widgets/controls",
          "model_name": "DescriptionStyleModel",
          "state": {
            "_view_name": "StyleView",
            "_model_name": "DescriptionStyleModel",
            "description_width": "",
            "_view_module": "@jupyter-widgets/base",
            "_model_module_version": "1.5.0",
            "_view_count": null,
            "_view_module_version": "1.2.0",
            "_model_module": "@jupyter-widgets/controls"
          }
        },
        "88cfe1f106dd414194a6f75eda61971d": {
          "model_module": "@jupyter-widgets/base",
          "model_name": "LayoutModel",
          "state": {
            "_view_name": "LayoutView",
            "grid_template_rows": null,
            "right": null,
            "justify_content": null,
            "_view_module": "@jupyter-widgets/base",
            "overflow": null,
            "_model_module_version": "1.2.0",
            "_view_count": null,
            "flex_flow": null,
            "width": null,
            "min_width": null,
            "border": null,
            "align_items": null,
            "bottom": null,
            "_model_module": "@jupyter-widgets/base",
            "top": null,
            "grid_column": null,
            "overflow_y": null,
            "overflow_x": null,
            "grid_auto_flow": null,
            "grid_area": null,
            "grid_template_columns": null,
            "flex": null,
            "_model_name": "LayoutModel",
            "justify_items": null,
            "grid_row": null,
            "max_height": null,
            "align_content": null,
            "visibility": null,
            "align_self": null,
            "height": null,
            "min_height": null,
            "padding": null,
            "grid_auto_rows": null,
            "grid_gap": null,
            "max_width": null,
            "order": null,
            "_view_module_version": "1.2.0",
            "grid_template_areas": null,
            "object_position": null,
            "object_fit": null,
            "grid_auto_columns": null,
            "margin": null,
            "display": null,
            "left": null
          }
        }
      }
    }
  },
  "cells": [
    {
      "cell_type": "markdown",
      "metadata": {
        "id": "view-in-github",
        "colab_type": "text"
      },
      "source": [
        "<a href=\"https://colab.research.google.com/github/pstanisl/mlprague-2021/blob/main/CMAB-movielens_linucb_tf.ipynb\" target=\"_parent\"><img src=\"https://colab.research.google.com/assets/colab-badge.svg\" alt=\"Open In Colab\"/></a>"
      ]
    },
    {
      "cell_type": "code",
      "metadata": {
        "id": "qbVPxLuUR25T"
      },
      "source": [
        "!pip install tf-agents -q"
      ],
      "execution_count": 1,
      "outputs": []
    },
    {
      "cell_type": "code",
      "metadata": {
        "colab": {
          "base_uri": "https://localhost:8080/"
        },
        "id": "P2MMqktAoX5e",
        "outputId": "de1ff8cc-10be-4daf-b1e8-67238474181b"
      },
      "source": [
        "!rm -f ./utils.py\n",
        "!wget --no-check-certificate --no-cache --no-cookies \\\n",
        "    https://raw.githubusercontent.com/pstanisl/mlprague-2021/main/utils.py \\\n",
        "    -O ./utils.py\n",
        "\n",
        "!rm -f ./lin_bandit_agent.py\n",
        "!wget --no-check-certificate --no-cache --no-cookies \\\n",
        "    https://raw.githubusercontent.com/pstanisl/mlprague-2021/main/lin_bandit_agent.py \\\n",
        "    -O ./lin_bandit_agent.py"
      ],
      "execution_count": 2,
      "outputs": [
        {
          "output_type": "stream",
          "text": [
            "--2021-02-18 10:55:07--  https://raw.githubusercontent.com/pstanisl/mlprague-2021/main/utils.py\n",
            "Resolving raw.githubusercontent.com (raw.githubusercontent.com)... 185.199.108.133, 185.199.109.133, 185.199.110.133, ...\n",
            "Connecting to raw.githubusercontent.com (raw.githubusercontent.com)|185.199.108.133|:443... connected.\n",
            "HTTP request sent, awaiting response... 200 OK\n",
            "Length: 3657 (3.6K) [text/plain]\n",
            "Saving to: ‘./utils.py’\n",
            "\n",
            "\r./utils.py            0%[                    ]       0  --.-KB/s               \r./utils.py          100%[===================>]   3.57K  --.-KB/s    in 0s      \n",
            "\n",
            "2021-02-18 10:55:07 (51.2 MB/s) - ‘./utils.py’ saved [3657/3657]\n",
            "\n",
            "--2021-02-18 10:55:08--  https://raw.githubusercontent.com/pstanisl/mlprague-2021/main/lin_bandit_agent.py\n",
            "Resolving raw.githubusercontent.com (raw.githubusercontent.com)... 185.199.108.133, 185.199.109.133, 185.199.110.133, ...\n",
            "Connecting to raw.githubusercontent.com (raw.githubusercontent.com)|185.199.108.133|:443... connected.\n",
            "HTTP request sent, awaiting response... 200 OK\n",
            "Length: 16931 (17K) [text/plain]\n",
            "Saving to: ‘./lin_bandit_agent.py’\n",
            "\n",
            "./lin_bandit_agent. 100%[===================>]  16.53K  --.-KB/s    in 0.001s  \n",
            "\n",
            "2021-02-18 10:55:08 (12.6 MB/s) - ‘./lin_bandit_agent.py’ saved [16931/16931]\n",
            "\n"
          ],
          "name": "stdout"
        }
      ]
    },
    {
      "cell_type": "code",
      "metadata": {
        "id": "rUEquHXHRwwB"
      },
      "source": [
        "import functools\n",
        "import matplotlib.pyplot as plt\n",
        "import numpy as np\n",
        "import random\n",
        "import tensorflow as tf  # pylint: disable=g-explicit-tensorflow-version-import\n",
        "import tensorflow_probability as tfp\n",
        "import zipfile\n",
        "\n",
        "from tqdm.notebook import trange\n",
        "from typing import Optional, Sequence, Text, Tuple\n",
        "\n",
        "from tf_agents.bandits.agents import linear_bandit_agent as lin_agent\n",
        "from tf_agents.bandits.environments import environment_utilities\n",
        "from tf_agents.bandits.environments import bandit_py_environment\n",
        "from tf_agents.bandits.metrics import tf_metrics as tf_bandit_metrics\n",
        "from tf_agents.bandits.policies import linalg\n",
        "from tf_agents.bandits.policies import linear_bandit_policy\n",
        "from tf_agents.bandits.policies import policy_utilities\n",
        "from tf_agents.drivers import dynamic_step_driver\n",
        "from tf_agents.environments import tf_py_environment\n",
        "from tf_agents.replay_buffers import tf_uniform_replay_buffer\n",
        "from tf_agents.specs import array_spec\n",
        "from tf_agents.trajectories import policy_step\n",
        "from tf_agents.trajectories import time_step as ts\n",
        "from tf_agents.typing import types\n",
        "\n",
        "from lin_bandit_agent import LinearBanditAgent\n",
        "from utils import load_movielens_data, plot_regret"
      ],
      "execution_count": 3,
      "outputs": []
    },
    {
      "cell_type": "code",
      "metadata": {
        "colab": {
          "base_uri": "https://localhost:8080/"
        },
        "id": "r8_xdGprnyqb",
        "outputId": "de0cff90-348e-4c9c-d43c-cc527e88397f"
      },
      "source": [
        "print(\"Downloading movielens data...\")\n",
        "\n",
        "!wget --no-check-certificate \\\n",
        "    http://files.grouplens.org/datasets/movielens/ml-100k.zip \\\n",
        "    -O ./movielens.zip\n",
        "\n",
        "zip_ref = zipfile.ZipFile('movielens.zip', \"r\")\n",
        "zip_ref.extractall()\n",
        "\n",
        "print(\"Done. Dataset contains:\")\n",
        "print(zip_ref.read('ml-100k/u.info').decode())"
      ],
      "execution_count": 4,
      "outputs": [
        {
          "output_type": "stream",
          "text": [
            "Downloading movielens data...\n",
            "--2021-02-18 10:55:11--  http://files.grouplens.org/datasets/movielens/ml-100k.zip\n",
            "Resolving files.grouplens.org (files.grouplens.org)... 128.101.65.152\n",
            "Connecting to files.grouplens.org (files.grouplens.org)|128.101.65.152|:80... connected.\n",
            "HTTP request sent, awaiting response... 200 OK\n",
            "Length: 4924029 (4.7M) [application/zip]\n",
            "Saving to: ‘./movielens.zip’\n",
            "\n",
            "./movielens.zip     100%[===================>]   4.70M  16.2MB/s    in 0.3s    \n",
            "\n",
            "2021-02-18 10:55:11 (16.2 MB/s) - ‘./movielens.zip’ saved [4924029/4924029]\n",
            "\n",
            "Done. Dataset contains:\n",
            "943 users\n",
            "1682 items\n",
            "100000 ratings\n",
            "\n"
          ],
          "name": "stdout"
        }
      ]
    },
    {
      "cell_type": "code",
      "metadata": {
        "id": "D2Tf9d1NcbF9"
      },
      "source": [
        "RANK_K = 20 # @param {type:\"integer\"}\n",
        "NUM_ACTIONS = 20 # @param {type:\"integer\"}"
      ],
      "execution_count": 5,
      "outputs": []
    },
    {
      "cell_type": "markdown",
      "metadata": {
        "id": "HvFAsPqLlmKQ"
      },
      "source": [
        "## Environment"
      ]
    },
    {
      "cell_type": "code",
      "metadata": {
        "id": "jW6QuzcKX8gq"
      },
      "source": [
        "class MovieLensPyEnvironment(bandit_py_environment.BanditPyEnvironment):\n",
        "  \"\"\"Implements the MovieLens Bandit environment.\n",
        "  This environment implements the MovieLens 100K dataset, available at:\n",
        "  https://www.kaggle.com/prajitdatta/movielens-100k-dataset\n",
        "  This dataset contains 100K ratings from 943 users on 1682 items.\n",
        "  This csv list of:\n",
        "  user id | item id | rating | timestamp.\n",
        "  This environment computes a low-rank matrix factorization (using SVD) of the\n",
        "  data matrix A, such that: A ~= U * V.\n",
        "  The reward of recommending item `j` to user `i` is provided as A_{ij}.\n",
        "  \"\"\"\n",
        "\n",
        "  def __init__(self,\n",
        "               data_dir: Text,\n",
        "               rank_k: int,\n",
        "               batch_size: int = 1,\n",
        "               num_movies: int = 20,\n",
        "               name: Optional[Text] = 'movielens'):\n",
        "    \"\"\"Initializes the MovieLens Bandit environment.\n",
        "    Args:\n",
        "      data_dir: (string) Directory where the data lies (in text form).\n",
        "      rank_k : (int) Which rank to use in the matrix factorization.\n",
        "      batch_size: (int) Number of observations generated per call.\n",
        "      num_movies: (int) Only the first `num_movies` movies will be used by the\n",
        "        environment. The rest is cut out from the data.\n",
        "      name: The name of this environment instance.\n",
        "    \"\"\"\n",
        "    self._num_actions = num_movies\n",
        "    self._batch_size = batch_size\n",
        "    self._context_dim = rank_k\n",
        "\n",
        "    # Compute the matrix factorization.\n",
        "    #self._data_matrix = dataset_utilities.load_movielens_data(data_dir)\n",
        "    self._data_matrix = load_movielens_data(data_dir)\n",
        "    # Keep only the first items.\n",
        "    self._data_matrix = self._data_matrix[:, :num_movies]\n",
        "    # Filter the users with no iterm rated.\n",
        "    nonzero_users = list(np.nonzero(np.sum(self._data_matrix, axis=1) > 0.0)[0])\n",
        "    self._data_matrix = self._data_matrix[nonzero_users, :]\n",
        "    self._effective_num_users = len(nonzero_users)\n",
        "\n",
        "    # Compute the SVD.\n",
        "    u, s, vh = np.linalg.svd(self._data_matrix, full_matrices=False)\n",
        "\n",
        "    # Keep only the largest singular values.\n",
        "    self._u_hat = u[:, :rank_k] * np.sqrt(s[:rank_k])\n",
        "    self._v_hat = np.transpose(\n",
        "        np.transpose(vh[:rank_k, :]) * np.sqrt(s[:rank_k]))\n",
        "    self._approx_ratings_matrix = np.matmul(self._u_hat, self._v_hat)\n",
        "\n",
        "    self._current_users = np.zeros(batch_size, dtype=np.int32)\n",
        "    self._previous_users = np.zeros(batch_size, dtype=np.int32)\n",
        "\n",
        "    self._action_spec = array_spec.BoundedArraySpec(\n",
        "        shape=(),\n",
        "        dtype=np.int32,\n",
        "        minimum=0,\n",
        "        maximum=self._num_actions - 1,\n",
        "        name='action')\n",
        "    observation_spec = array_spec.ArraySpec(\n",
        "        shape=(self._context_dim,), dtype=np.float64, name='observation')\n",
        "    self._time_step_spec = ts.time_step_spec(observation_spec)\n",
        "    self._observation = np.zeros((self._batch_size, self._context_dim))\n",
        "\n",
        "    self._optimal_action_table = np.argmax(\n",
        "        self._approx_ratings_matrix, axis=1)\n",
        "    self._optimal_reward_table = np.max(\n",
        "        self._approx_ratings_matrix, axis=1)\n",
        "\n",
        "    super(MovieLensPyEnvironment, self).__init__(\n",
        "        observation_spec, self._action_spec)\n",
        "\n",
        "  @property\n",
        "  def batch_size(self):\n",
        "    return self._batch_size\n",
        "\n",
        "  @property\n",
        "  def batched(self):\n",
        "    return True\n",
        "\n",
        "  def _observe(self):\n",
        "    \"\"\"Returns the u vectors of a random sample of users.\"\"\"\n",
        "    sampled_users = random.sample(\n",
        "        range(self._effective_num_users), self._batch_size)\n",
        "    self._previous_users = self._current_users\n",
        "    self._current_users = sampled_users\n",
        "    batched_observations = self._u_hat[sampled_users]\n",
        "    return batched_observations\n",
        "\n",
        "  def _apply_action(self, action):\n",
        "    \"\"\"Computes the reward for the input actions.\"\"\"\n",
        "    rewards = []\n",
        "    for i, j in zip(self._current_users, action):\n",
        "      rewards.append(self._approx_ratings_matrix[i, j])\n",
        "    return np.array(rewards)\n",
        "\n",
        "  def compute_optimal_action(self):\n",
        "    return self._optimal_action_table[self._previous_users]\n",
        "\n",
        "  def compute_optimal_reward(self):\n",
        "    return self._optimal_reward_table[self._previous_users]"
      ],
      "execution_count": 6,
      "outputs": []
    },
    {
      "cell_type": "code",
      "metadata": {
        "id": "JWLNxLEiT05z"
      },
      "source": [
        "env = MovieLensPyEnvironment('./ml-100k/u.data', RANK_K, 8, num_movies=NUM_ACTIONS)\n",
        "tf_env = tf_py_environment.TFPyEnvironment(env)"
      ],
      "execution_count": 7,
      "outputs": []
    },
    {
      "cell_type": "code",
      "metadata": {
        "colab": {
          "base_uri": "https://localhost:8080/"
        },
        "id": "vcRZbsaSUCEh",
        "outputId": "666ba67b-4358-4d2e-8884-8254f4f38a89"
      },
      "source": [
        "print('Observation spec:', tf_env.observation_spec())\n",
        "print('An observation: ', tf_env.reset().observation.numpy())\n",
        "\n",
        "action = tf.zeros(8, dtype=tf.int32)\n",
        "time_step = tf_env.step(action)\n",
        "\n",
        "print()\n",
        "print(f'Action={action.numpy()} (optimal={tf_env.compute_optimal_action()})')\n",
        "print(f'Reward={time_step.reward.numpy()} (optimal={tf_env.compute_optimal_reward()})')"
      ],
      "execution_count": 8,
      "outputs": [
        {
          "output_type": "stream",
          "text": [
            "Observation spec: TensorSpec(shape=(20,), dtype=tf.float64, name='observation')\n",
            "An observation:  [[-0.32759339  0.26975616  0.06222837 -0.19481472 -0.43583307  0.10287662\n",
            "  -0.42617007 -0.05347624  0.23246016 -0.01620806  0.08418194  0.0568065\n",
            "   0.14372982 -0.08435131 -0.01458828  0.02549446 -0.05571964  0.00110821\n",
            "   0.02767587  0.00528209]\n",
            " [-0.24750087  0.25634486 -0.31334534  0.29842215  0.23116072 -0.12713406\n",
            "  -0.07954689  0.06149034 -0.06461375 -0.05653535  0.01206929 -0.04322588\n",
            "  -0.03433528  0.05095003 -0.00511044  0.02906018 -0.04762803  0.00256469\n",
            "  -0.01601551 -0.0096384 ]\n",
            " [-0.51721744 -0.28720211 -0.16843429 -0.23081519  0.11530689  0.1798957\n",
            "   0.22240474  0.34901051 -0.02277749 -0.5346243   0.30387879  0.09846561\n",
            "   0.05819894 -0.03234885  0.02103501  0.04534145 -0.05147648 -0.03823507\n",
            "   0.03963909 -0.02075556]\n",
            " [-0.60837989  0.03763765 -0.04570892 -0.3370885  -0.00299657 -0.22732524\n",
            "   0.26001837  0.4447847   0.44734441 -0.05239848  0.08634619 -0.18339344\n",
            "   0.25482054 -0.41941507 -0.20749882  0.05414765 -0.08378413  0.16019338\n",
            "  -0.80974858  0.15179557]\n",
            " [-0.73216295 -0.5454632   0.39069418  0.08266064 -0.04765935 -0.47193889\n",
            "  -0.41104775 -0.03647433  0.12379647  0.07266215 -0.41230578  0.54606485\n",
            "   0.05279942  0.17617575  0.18802963  0.1890581   0.1426705   0.01287971\n",
            "  -0.00616374  0.0149849 ]\n",
            " [-0.48429301 -0.82281713  0.02975298  0.56847476  0.17443359  0.09838024\n",
            "   0.12396947 -0.24045057 -0.05193563  0.13665784 -0.04989295  0.19317709\n",
            "   0.05455982 -0.49301179 -0.28614278 -0.00233517  0.10369379  0.03335237\n",
            "  -0.00156719  0.04659746]\n",
            " [-0.40841559 -0.54024252  0.28261954  0.22958601  0.08321292  0.41190126\n",
            "   0.52673563 -0.07058582 -0.2744277   0.35523675  0.0644386   0.26511097\n",
            "   0.1758679  -0.37561319 -0.14051558 -0.04226095  0.09639684 -0.00646211\n",
            "   0.04334911  0.04454695]\n",
            " [-0.1411108   0.17790554 -0.28850157 -0.01855614  0.17218529 -0.12298871\n",
            "   0.25777674  0.09648704 -0.00694572 -0.05110072  0.0148902   0.00712131\n",
            "  -0.05790282  0.03362502  0.02360664 -0.00772742 -0.02274233 -0.02622233\n",
            "  -0.01282832 -0.02123861]]\n",
            "\n",
            "Action=[0 0 0 0 0 0 0 0] (optimal=[14  0 11  0  8  1 11  0])\n",
            "Reward=[8.8262290e-15 4.0000000e+00 4.0000000e+00 5.0000000e+00 3.0104906e-14\n",
            " 2.4708395e-14 2.2471784e-14 4.0000000e+00] (optimal=[4. 4. 5. 5. 5. 5. 5. 4.])\n"
          ],
          "name": "stdout"
        }
      ]
    },
    {
      "cell_type": "markdown",
      "metadata": {
        "id": "qTjTE8ThV85o"
      },
      "source": [
        "## Policy"
      ]
    },
    {
      "cell_type": "code",
      "metadata": {
        "id": "10eDwxGDV-n6"
      },
      "source": [
        "class LinearUCBPolicy(linear_bandit_policy.LinearBanditPolicy):\n",
        "  \"\"\"LinearUCB policy is simplified version of LinearBanditPolicy from tf_agente.\"\"\"\n",
        "\n",
        "  def __init__(self,\n",
        "               action_spec: types.BoundedTensorSpec,\n",
        "               variable_collection: tf.Module,\n",
        "               time_step_spec: Optional[types.TimeStep] = None,\n",
        "               alpha: float = 1.0,\n",
        "               tikhonov_weight: float = 1.0,\n",
        "               name: Optional[Text] = None):\n",
        "    super(LinearUCBPolicy, self).__init__(\n",
        "        action_spec,\n",
        "        cov_matrix=variable_collection.cov_matrix_list,\n",
        "        data_vector=variable_collection.data_vector_list,\n",
        "        num_samples=variable_collection.num_samples_list,\n",
        "        time_step_spec=time_step_spec,\n",
        "        alpha=alpha,\n",
        "        tikhonov_weight=tikhonov_weight,\n",
        "        name=name)\n",
        "\n",
        "  def _distribution(self, time_step, policy_state):\n",
        "    observation = tf.nest.map_structure(lambda o: tf.cast(o, dtype=self._dtype),\n",
        "                                        time_step.observation)\n",
        "    \n",
        "    current_observation = tf.reshape(\n",
        "        observation, [-1, self._global_context_dim])\n",
        "\n",
        "    est_rewards = []\n",
        "    confidence_intervals = []\n",
        "\n",
        "    for model_index in range(self._num_actions):\n",
        "      # Compute confidence interval for action(i): x^T*A^-1*x\n",
        "      # 1: A^-1*x -> A^-1x\n",
        "      a_inv_x = linalg.conjugate_gradient_solve(\n",
        "          self._cov_matrix[model_index] + self._tikhonov_weight *\n",
        "          tf.eye(self._overall_context_dim, dtype=self._dtype),\n",
        "          tf.linalg.matrix_transpose(current_observation))\n",
        "      # 2: x^T*A^-1x -> confidence interval of action(i)\n",
        "      ci = tf.reshape(\n",
        "          tf.linalg.tensor_diag_part(tf.matmul(current_observation, a_inv_x)),\n",
        "          [-1, 1])\n",
        "      \n",
        "      confidence_intervals.append(ci)\n",
        "      est_mean_reward = tf.einsum('j,jk->k', self._data_vector[model_index],\n",
        "                                  a_inv_x)\n",
        "      est_rewards.append(est_mean_reward)\n",
        "    # Estimate rewards for every action\n",
        "    optimistic_estimates = [\n",
        "        tf.reshape(mean_reward, [-1, 1]) + self._alpha * tf.sqrt(confidence)\n",
        "        for mean_reward, confidence in zip(est_rewards, confidence_intervals)\n",
        "    ]\n",
        "    # Keeping the batch dimension during the squeeze, even if batch_size == 1.\n",
        "    rewards_for_argmax = tf.squeeze(\n",
        "        tf.stack(optimistic_estimates, axis=-1), axis=[1])\n",
        "    # Choose the best action for every observation in the batch\n",
        "    chosen_actions = tf.argmax(\n",
        "        rewards_for_argmax,\n",
        "        axis=-1,\n",
        "        output_type=tf.nest.flatten(self._action_spec)[0].dtype)\n",
        "\n",
        "    action_distributions = tfp.distributions.Deterministic(loc=chosen_actions)\n",
        "\n",
        "    policy_info = policy_utilities.populate_policy_info(\n",
        "        None, chosen_actions, rewards_for_argmax,\n",
        "        tf.stack(est_rewards, axis=-1), self._emit_policy_info,\n",
        "        False)\n",
        "\n",
        "    return policy_step.PolicyStep(\n",
        "        action_distributions, policy_state, policy_info)\n",
        "    "
      ],
      "execution_count": 9,
      "outputs": []
    },
    {
      "cell_type": "code",
      "metadata": {
        "id": "HKxJtkHrwTaS"
      },
      "source": [
        "class LinearTSPolicy(linear_bandit_policy.LinearBanditPolicy):\n",
        "  \"\"\"LinearTS policy is simplified version of LinearBanditPolicy from tf_agente.\"\"\"\n",
        "\n",
        "  def __init__(self,\n",
        "               action_spec: types.BoundedTensorSpec,\n",
        "               variable_collection: tf.Module,\n",
        "               time_step_spec: Optional[types.TimeStep] = None,\n",
        "               alpha: float = 1.0,\n",
        "               tikhonov_weight: float = 1.0,\n",
        "               name: Optional[Text] = None):\n",
        "    super(LinearTSPolicy, self).__init__(\n",
        "        action_spec,\n",
        "        cov_matrix=variable_collection.cov_matrix_list,\n",
        "        data_vector=variable_collection.data_vector_list,\n",
        "        num_samples=variable_collection.num_samples_list,\n",
        "        time_step_spec=time_step_spec,\n",
        "        alpha=alpha,\n",
        "        tikhonov_weight=tikhonov_weight,\n",
        "        name=name)\n",
        "\n",
        "  def _distribution(self, time_step, policy_state):\n",
        "    observation = tf.nest.map_structure(lambda o: tf.cast(o, dtype=self._dtype),\n",
        "                                        time_step.observation)\n",
        "    \n",
        "    current_observation = tf.reshape(\n",
        "        observation, [-1, self._global_context_dim])\n",
        "\n",
        "    est_rewards = []\n",
        "    confidence_intervals = []\n",
        "\n",
        "    for model_index in range(self._num_actions):\n",
        "      # Compute confidence interval for action(i): x^T*A^-1*x\n",
        "      # 1: A^-1*x -> A^-1x\n",
        "      a_inv_x = linalg.conjugate_gradient_solve(\n",
        "          self._cov_matrix[model_index] + self._tikhonov_weight *\n",
        "          tf.eye(self._overall_context_dim, dtype=self._dtype),\n",
        "          tf.linalg.matrix_transpose(current_observation))\n",
        "      # 2: x^T*A^-1x -> confidence interval of action(i)\n",
        "      ci = tf.reshape(\n",
        "          tf.linalg.tensor_diag_part(tf.matmul(current_observation, a_inv_x)),\n",
        "          [-1, 1])\n",
        "      \n",
        "      confidence_intervals.append(ci)\n",
        "      est_mean_reward = tf.einsum('j,jk->k', self._data_vector[model_index],\n",
        "                                  a_inv_x)\n",
        "      est_rewards.append(est_mean_reward)\n",
        "    # Sample from the Normapl distribution\n",
        "    mu_sampler = tfp.distributions.Normal(\n",
        "          loc=tf.stack(est_rewards, axis=-1),\n",
        "          scale=self._alpha *\n",
        "          tf.sqrt(tf.squeeze(tf.stack(confidence_intervals, axis=-1), axis=1)))\n",
        "    rewards_for_argmax = mu_sampler.sample()\n",
        "    # Choose the best action for every observation in the batch\n",
        "    chosen_actions = tf.argmax(\n",
        "        rewards_for_argmax,\n",
        "        axis=-1,\n",
        "        output_type=tf.nest.flatten(self._action_spec)[0].dtype)\n",
        "\n",
        "    action_distributions = tfp.distributions.Deterministic(loc=chosen_actions)\n",
        "\n",
        "    policy_info = policy_utilities.populate_policy_info(\n",
        "        None, chosen_actions, rewards_for_argmax,\n",
        "        tf.stack(est_rewards, axis=-1), self._emit_policy_info,\n",
        "        False)\n",
        "\n",
        "    return policy_step.PolicyStep(\n",
        "        action_distributions, policy_state, policy_info)"
      ],
      "execution_count": 10,
      "outputs": []
    },
    {
      "cell_type": "markdown",
      "metadata": {
        "id": "Uo3YPdpkxYsr"
      },
      "source": [
        "## Agent"
      ]
    },
    {
      "cell_type": "code",
      "metadata": {
        "id": "c71jtEc-nT1s"
      },
      "source": [
        "from tf_agents.agents import tf_agent\n",
        "from tf_agents.bandits.agents import utils as bandit_utils"
      ],
      "execution_count": 11,
      "outputs": []
    },
    {
      "cell_type": "code",
      "metadata": {
        "id": "O2zoC7YYVzxj"
      },
      "source": [
        "def update_a_and_b_with_forgetting(\n",
        "    a_prev: types.Tensor,\n",
        "    b_prev: types.Tensor,\n",
        "    r: types.Tensor,\n",
        "    x: types.Tensor,\n",
        "    gamma: float\n",
        ") -> Tuple[types.Tensor, types.Tensor, types.Tensor, types.Tensor]:\n",
        "  r\"\"\"Update the covariance matrix `a` and the weighted sum of rewards `b`.\n",
        "  This function updates the covariance matrix `a` and the sum of weighted\n",
        "  rewards `b` using a forgetting factor `gamma`.\n",
        "  Args:\n",
        "    a_prev: previous estimate of `a`.\n",
        "    b_prev: previous estimate of `b`.\n",
        "    r: a `Tensor` of shape [`batch_size`]. This is the rewards of the batched\n",
        "      observations.\n",
        "    x: a `Tensor` of shape [`batch_size`, `context_dim`]. This is the matrix\n",
        "      with the (batched) observations.\n",
        "    gamma: a float forgetting factor in [0.0, 1.0].\n",
        "  Returns:\n",
        "    The updated estimates of `a` and `b` and optionally the eigenvalues and\n",
        "    eigenvectors of `a`.\n",
        "  \"\"\"\n",
        "  a_new = gamma * a_prev + tf.matmul(x, x, transpose_a=True)\n",
        "  b_new = gamma * b_prev + bandit_utils.sum_reward_weighted_observations(r, x)\n",
        "\n",
        "  eig_vals = tf.constant([], dtype=a_new.dtype)\n",
        "  eig_matrix = tf.constant([], dtype=a_new.dtype)\n",
        "  \n",
        "  return a_new, b_new, eig_vals, eig_matrix"
      ],
      "execution_count": 12,
      "outputs": []
    },
    {
      "cell_type": "code",
      "metadata": {
        "id": "uMo6hdUpD6hO"
      },
      "source": [
        "class LinearUCBAgent(LinearBanditAgent):\n",
        "    def __init__(self,\n",
        "               time_step_spec: types.TimeStep,\n",
        "               action_spec: types.BoundedTensorSpec,\n",
        "               alpha: float = 1.0,\n",
        "               tikhonov_weight: float = 1.0,\n",
        "               dtype: tf.DType = tf.float32,\n",
        "               name: Optional[Text] = None):\n",
        "      \n",
        "      _num_actions = policy_utilities.get_num_actions_from_tensor_spec(\n",
        "        action_spec)\n",
        "\n",
        "      variable_collection = lin_agent.LinearBanditVariableCollection(\n",
        "          context_dim=_num_actions,\n",
        "          num_models=_num_actions,\n",
        "          use_eigendecomp=False,\n",
        "          dtype=dtype)\n",
        "\n",
        "      #policy = LinearUCBPolicy(\n",
        "      #    action_spec=action_spec,\n",
        "      #    variable_collection=variable_collection,\n",
        "      #    time_step_spec=time_step_spec,\n",
        "      #    alpha=alpha,\n",
        "      #    tikhonov_weight=tikhonov_weight\n",
        "      #)\n",
        "\n",
        "      policy = LinearTSPolicy(\n",
        "          action_spec=action_spec,\n",
        "          variable_collection=variable_collection,\n",
        "          time_step_spec=time_step_spec,\n",
        "          alpha=alpha,\n",
        "          tikhonov_weight=tikhonov_weight\n",
        "      )\n",
        "\n",
        "      super(LinearUCBAgent, self).__init__(\n",
        "          time_step_spec=time_step_spec,\n",
        "          action_spec=action_spec,\n",
        "          policy=policy,\n",
        "          variable_collection=variable_collection,\n",
        "          alpha=alpha,\n",
        "          tikhonov_weight=tikhonov_weight,\n",
        "          dtype=dtype,\n",
        "          name=name\n",
        "      )\n",
        "    \n",
        "    def _train(self, experience, weights=None):\n",
        "      \"\"\"Updates the policy based on the data in `experience`.\n",
        "      Note that `experience` should only contain data points that this agent has\n",
        "      not previously seen. If `experience` comes from a replay buffer, this buffer\n",
        "      should be cleared between each call to `train`.\n",
        "      Args:\n",
        "        experience: A batch of experience data in the form of a `Trajectory`.\n",
        "        weights: Unused.\n",
        "      Returns:\n",
        "          A `LossInfo` containing the loss *before* the training step is taken.\n",
        "          In most cases, if `weights` is provided, the entries of this tuple will\n",
        "          have been calculated with the weights.  Note that each Agent chooses\n",
        "          its own method of applying weights.\n",
        "      \"\"\"\n",
        "      experience = self._as_trajectory(experience)\n",
        "\n",
        "      del weights  # unused\n",
        "\n",
        "      reward, action, observation, batch_size = self._process_experience(\n",
        "          experience)\n",
        "      #print('action', action)\n",
        "      \n",
        "      for k in range(self._num_models):\n",
        "        diag_mask = tf.linalg.tensor_diag(\n",
        "            tf.cast(tf.equal(action, k), self._dtype))\n",
        "        #print(f'{k} - diag_mas={diag_mask}')\n",
        "        observations_for_arm = tf.matmul(diag_mask, observation)\n",
        "        #print(f'{k} - observations_for_arm={observations_for_arm}')\n",
        "        rewards_for_arm = tf.matmul(diag_mask, tf.reshape(reward, [-1, 1]))\n",
        "\n",
        "        num_samples_for_arm_current = tf.reduce_sum(diag_mask)\n",
        "        #print(f'{k} - num_samples_for_arm_current={num_samples_for_arm_current}')\n",
        "        tf.compat.v1.assign_add(self._num_samples_list[k],\n",
        "                                num_samples_for_arm_current)\n",
        "        num_samples_for_arm_total = self._num_samples_list[k].read_value()\n",
        "\n",
        "        # Update the matrix A and b.\n",
        "        # pylint: disable=cell-var-from-loop,g-long-lambda\n",
        "        def update(cov_matrix, data_vector):\n",
        "          return update_a_and_b_with_forgetting(\n",
        "              cov_matrix, \n",
        "              data_vector,           \n",
        "              rewards_for_arm,      \n",
        "              observations_for_arm, \n",
        "              self._gamma\n",
        "          )\n",
        "        # Compute updated matrixes (A, b, and eigenvectors)\n",
        "        a_new, b_new, eig_vals, eig_matrix = tf.cond(\n",
        "            tf.squeeze(num_samples_for_arm_total) > 0,\n",
        "            lambda: update(self._cov_matrix_list[k], self._data_vector_list[k]),\n",
        "            lambda: (self._cov_matrix_list[k], self._data_vector_list[k],\n",
        "                    self._eig_vals_list[k], self._eig_matrix_list[k]))\n",
        "        # Update real variables\n",
        "        tf.compat.v1.assign(self._cov_matrix_list[k], a_new)\n",
        "        tf.compat.v1.assign(self._data_vector_list[k], b_new)\n",
        "        tf.compat.v1.assign(self._eig_vals_list[k], eig_vals)\n",
        "        tf.compat.v1.assign(self._eig_matrix_list[k], eig_matrix)\n",
        "\n",
        "      loss = -1. * tf.reduce_sum(reward)\n",
        "      self.compute_summaries(loss)\n",
        "\n",
        "      self._train_step_counter.assign_add(batch_size)\n",
        "\n",
        "      return tf_agent.LossInfo(loss=(loss), extra=())\n"
      ],
      "execution_count": 13,
      "outputs": []
    },
    {
      "cell_type": "code",
      "metadata": {
        "id": "bG8LVv2rW1sK"
      },
      "source": [
        "agent = LinearUCBAgent(\n",
        "    time_step_spec=tf_env.time_step_spec(),\n",
        "    action_spec=tf_env.action_spec(),\n",
        "    tikhonov_weight=0.001,\n",
        "    alpha=10.0,\n",
        "    dtype=tf.float32\n",
        ")"
      ],
      "execution_count": 14,
      "outputs": []
    },
    {
      "cell_type": "code",
      "metadata": {
        "colab": {
          "base_uri": "https://localhost:8080/"
        },
        "id": "HPg7h-hIlTnx",
        "outputId": "01a2a7c5-c489-49c1-bb40-da608f65666f"
      },
      "source": [
        "print('training data spec: ', agent.training_data_spec)"
      ],
      "execution_count": 15,
      "outputs": [
        {
          "output_type": "stream",
          "text": [
            "training data spec:  Trajectory(step_type=TensorSpec(shape=(), dtype=tf.int32, name='step_type'), observation=TensorSpec(shape=(20,), dtype=tf.float64, name='observation'), action=BoundedTensorSpec(shape=(), dtype=tf.int32, name='action', minimum=array(0, dtype=int32), maximum=array(19, dtype=int32)), policy_info=PolicyInfo(log_probability=(), predicted_rewards_mean=(), predicted_rewards_optimistic=(), predicted_rewards_sampled=(), bandit_policy_type=()), next_step_type=TensorSpec(shape=(), dtype=tf.int32, name='step_type'), reward=TensorSpec(shape=(), dtype=tf.float32, name='reward'), discount=BoundedTensorSpec(shape=(), dtype=tf.float32, name='discount', minimum=array(0., dtype=float32), maximum=array(1., dtype=float32)))\n"
          ],
          "name": "stdout"
        }
      ]
    },
    {
      "cell_type": "code",
      "metadata": {
        "colab": {
          "base_uri": "https://localhost:8080/"
        },
        "id": "1ei7Ivo6lbzb",
        "outputId": "f100bf70-2e7b-4d94-8e21-6a0781e27dd4"
      },
      "source": [
        "print('observation spec in training: ', agent.training_data_spec.observation)"
      ],
      "execution_count": 16,
      "outputs": [
        {
          "output_type": "stream",
          "text": [
            "observation spec in training:  TensorSpec(shape=(20,), dtype=tf.float64, name='observation')\n"
          ],
          "name": "stdout"
        }
      ]
    },
    {
      "cell_type": "markdown",
      "metadata": {
        "id": "nDjYCtBUl2j4"
      },
      "source": [
        "## Experiment"
      ]
    },
    {
      "cell_type": "code",
      "metadata": {
        "id": "Ao7VTTAYM8Bu"
      },
      "source": [
        "def set_expected_shape(experience, num_steps):\n",
        "  def set_time_dim(input_tensor, steps):\n",
        "    tensor_shape = input_tensor.shape.as_list()\n",
        "    tensor_shape[1] = steps\n",
        "    input_tensor.set_shape(tensor_shape)\n",
        "  tf.nest.map_structure(lambda t: set_time_dim(t, num_steps), experience)"
      ],
      "execution_count": 17,
      "outputs": []
    },
    {
      "cell_type": "code",
      "metadata": {
        "id": "P5foepaVcv9Y"
      },
      "source": [
        "def run(\n",
        "    environment, \n",
        "    agent, \n",
        "    iterations, \n",
        "    steps_per_loop,\n",
        "    additional_metrics=()\n",
        "):\n",
        "  replay_buffer = tf_uniform_replay_buffer.TFUniformReplayBuffer(\n",
        "      data_spec=agent.policy.trajectory_spec,\n",
        "      batch_size=environment.batch_size,\n",
        "      max_length=steps_per_loop)\n",
        "  \n",
        "  metrics = [] + list(additional_metrics)\n",
        "  ret_metrics = dict([(m.name, []) for m in metrics])\n",
        "\n",
        "  observers = [replay_buffer.add_batch] + metrics\n",
        "\n",
        "  driver = dynamic_step_driver.DynamicStepDriver(\n",
        "      env=environment,\n",
        "      policy=agent.collect_policy,\n",
        "      num_steps=steps_per_loop * environment.batch_size,\n",
        "      observers=observers)\n",
        "\n",
        "  regret_values = []\n",
        "\n",
        "  for _ in trange(num_iterations):\n",
        "    driver.run()\n",
        "    loss_info = agent.train(replay_buffer.gather_all())\n",
        "    replay_buffer.clear()\n",
        "    # Log metrics value\n",
        "    for metric in metrics:\n",
        "      ret_metrics[metric.name].append(metric.result())\n",
        "\n",
        "  return ret_metrics"
      ],
      "execution_count": 18,
      "outputs": []
    },
    {
      "cell_type": "code",
      "metadata": {
        "id": "HTmTQNtQpk_a"
      },
      "source": [
        "def get_metrics(environment):\n",
        "  optimal_reward_fn = functools.partial(\n",
        "        environment_utilities.compute_optimal_reward_with_movielens_environment,\n",
        "        environment=tf_env)\n",
        "  optimal_action_fn = functools.partial(\n",
        "        environment_utilities.compute_optimal_action_with_movielens_environment,\n",
        "        environment=tf_env)\n",
        "  \n",
        "  regret_metric = tf_bandit_metrics.RegretMetric(\n",
        "      optimal_reward_fn, \n",
        "      name='regret'\n",
        "  )\n",
        "  suboptimal_arms_metric = tf_bandit_metrics.SuboptimalArmsMetric(\n",
        "      optimal_action_fn,\n",
        "      name='suboptimal_arms'\n",
        "  )\n",
        "  \n",
        "  return [regret_metric, suboptimal_arms_metric]"
      ],
      "execution_count": 19,
      "outputs": []
    },
    {
      "cell_type": "code",
      "metadata": {
        "colab": {
          "base_uri": "https://localhost:8080/",
          "height": 67,
          "referenced_widgets": [
            "17bcad1554744efeb91a276cbafd2b4c",
            "e83a956dfe774a099bac1c2c514394cc",
            "6628d03e88a94542bd1550e2a3276d51",
            "e4e188dc21d044dbb92a4563e38bad7d",
            "e6a6f28b8b744ef0821e57898dad80b2",
            "a6b1bd8933d341768a39c1a86068d8ab",
            "2c7805fb11234b4b988074a27695003b",
            "88cfe1f106dd414194a6f75eda61971d"
          ]
        },
        "id": "9yxB1q29LqWV",
        "outputId": "3d24b106-1715-43db-9255-df05e6e383ea"
      },
      "source": [
        "batch_size =   64# @param {type:\"integer\"}\n",
        "num_iterations =   250# @param {type:\"integer\"}\n",
        "steps_per_loop =   8# @param {type:\"integer\"}\n",
        "agent_alpha = 10.0  # @param {type: \"number\"}\n",
        "\n",
        "env = MovieLensPyEnvironment(\n",
        "    './ml-100k/u.data', \n",
        "    rank_k=RANK_K,\n",
        "    batch_size=batch_size, \n",
        "    num_movies=NUM_ACTIONS\n",
        ")\n",
        "tf_env = tf_py_environment.TFPyEnvironment(env)\n",
        "tf_env.reset()\n",
        "\n",
        "agent = LinearUCBAgent(\n",
        "    time_step_spec=tf_env.time_step_spec(),\n",
        "    action_spec=tf_env.action_spec(),\n",
        "    tikhonov_weight=0.001,\n",
        "    alpha=agent_alpha,\n",
        "    dtype=tf.float32\n",
        ")\n",
        "\n",
        "additional_metrics = get_metrics(tf_env)\n",
        "\n",
        "metrics = run(\n",
        "    tf_env, \n",
        "    agent, \n",
        "    iterations=num_iterations,\n",
        "    steps_per_loop=steps_per_loop,\n",
        "    additional_metrics=additional_metrics\n",
        ")"
      ],
      "execution_count": 23,
      "outputs": [
        {
          "output_type": "display_data",
          "data": {
            "application/vnd.jupyter.widget-view+json": {
              "model_id": "17bcad1554744efeb91a276cbafd2b4c",
              "version_minor": 0,
              "version_major": 2
            },
            "text/plain": [
              "HBox(children=(FloatProgress(value=0.0, max=250.0), HTML(value='')))"
            ]
          },
          "metadata": {
            "tags": []
          }
        },
        {
          "output_type": "stream",
          "text": [
            "\n"
          ],
          "name": "stdout"
        }
      ]
    },
    {
      "cell_type": "code",
      "metadata": {
        "colab": {
          "base_uri": "https://localhost:8080/",
          "height": 464
        },
        "id": "jqo41BBZXLZh",
        "outputId": "605f3e15-aae9-4222-f4b5-86469b3f820c"
      },
      "source": [
        "plot_regret(metrics['regret'], {'algorithm': 'LinUCB'})"
      ],
      "execution_count": 24,
      "outputs": [
        {
          "output_type": "display_data",
          "data": {
            "image/png": "[encoded data removed]",
            "text/plain": [
              "<Figure size 720x504 with 1 Axes>"
            ]
          },
          "metadata": {
            "tags": []
          }
        }
      ]
    },
    {
      "cell_type": "code",
      "metadata": {
        "colab": {
          "base_uri": "https://localhost:8080/",
          "height": 464
        },
        "id": "twY91LYsehYx",
        "outputId": "72cb0e58-b7cf-407d-8fe7-1ffaef2588e5"
      },
      "source": [
        "plt.figure(figsize=(10, 7))\n",
        "plt.plot(metrics['suboptimal_arms'])\n",
        "plt.title('Regret of LinUCB on the Linear per-arm environment')\n",
        "plt.xlabel('Number of Iterations')\n",
        "_ = plt.ylabel('Average Regret')"
      ],
      "execution_count": 22,
      "outputs": [
        {
          "output_type": "display_data",
          "data": {
            "image/png": "[encoded data removed]",
            "text/plain": [
              "<Figure size 720x504 with 1 Axes>"
            ]
          },
          "metadata": {
            "tags": []
          }
        }
      ]
    },
    {
      "cell_type": "code",
      "metadata": {
        "id": "XYdibk130cGM"
      },
      "source": [
        ""
      ],
      "execution_count": 22,
      "outputs": []
    }
  ]
}