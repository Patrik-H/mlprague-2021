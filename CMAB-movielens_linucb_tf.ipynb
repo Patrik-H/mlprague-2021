{
  "nbformat": 4,
  "nbformat_minor": 0,
  "metadata": {
    "colab": {
      "name": "02-movielens_linucb_tf.ipynb",
      "provenance": [],
      "authorship_tag": "ABX9TyPb9knHgpBVRnZeQ9bodOQB",
      "include_colab_link": true
    },
    "kernelspec": {
      "name": "python3",
      "display_name": "Python 3"
    },
    "widgets": {
      "application/vnd.jupyter.widget-state+json": {
        "ab8adbdfc9c942ea95e76576e55cfd9e": {
          "model_module": "@jupyter-widgets/controls",
          "model_name": "HBoxModel",
          "state": {
            "_view_name": "HBoxView",
            "_dom_classes": [],
            "_model_name": "HBoxModel",
            "_view_module": "@jupyter-widgets/controls",
            "_model_module_version": "1.5.0",
            "_view_count": null,
            "_view_module_version": "1.5.0",
            "box_style": "",
            "layout": "IPY_MODEL_a381ec7f2dbb4a8089d92c382d57ea36",
            "_model_module": "@jupyter-widgets/controls",
            "children": [
              "IPY_MODEL_a202c925a2114c3aaa03f60b01703124",
              "IPY_MODEL_c5c1fcdb9054401686afb240ce4c1e01"
            ]
          }
        },
        "a381ec7f2dbb4a8089d92c382d57ea36": {
          "model_module": "@jupyter-widgets/base",
          "model_name": "LayoutModel",
          "state": {
            "_view_name": "LayoutView",
            "grid_template_rows": null,
            "right": null,
            "justify_content": null,
            "_view_module": "@jupyter-widgets/base",
            "overflow": null,
            "_model_module_version": "1.2.0",
            "_view_count": null,
            "flex_flow": null,
            "width": null,
            "min_width": null,
            "border": null,
            "align_items": null,
            "bottom": null,
            "_model_module": "@jupyter-widgets/base",
            "top": null,
            "grid_column": null,
            "overflow_y": null,
            "overflow_x": null,
            "grid_auto_flow": null,
            "grid_area": null,
            "grid_template_columns": null,
            "flex": null,
            "_model_name": "LayoutModel",
            "justify_items": null,
            "grid_row": null,
            "max_height": null,
            "align_content": null,
            "visibility": null,
            "align_self": null,
            "height": null,
            "min_height": null,
            "padding": null,
            "grid_auto_rows": null,
            "grid_gap": null,
            "max_width": null,
            "order": null,
            "_view_module_version": "1.2.0",
            "grid_template_areas": null,
            "object_position": null,
            "object_fit": null,
            "grid_auto_columns": null,
            "margin": null,
            "display": null,
            "left": null
          }
        },
        "a202c925a2114c3aaa03f60b01703124": {
          "model_module": "@jupyter-widgets/controls",
          "model_name": "FloatProgressModel",
          "state": {
            "_view_name": "ProgressView",
            "style": "IPY_MODEL_68d02f7f951e4aa29aaf2ff4ef77caeb",
            "_dom_classes": [],
            "description": "100%",
            "_model_name": "FloatProgressModel",
            "bar_style": "success",
            "max": 250,
            "_view_module": "@jupyter-widgets/controls",
            "_model_module_version": "1.5.0",
            "value": 250,
            "_view_count": null,
            "_view_module_version": "1.5.0",
            "orientation": "horizontal",
            "min": 0,
            "description_tooltip": null,
            "_model_module": "@jupyter-widgets/controls",
            "layout": "IPY_MODEL_333bc53e4b50456997c8dff5c2139e7d"
          }
        },
        "c5c1fcdb9054401686afb240ce4c1e01": {
          "model_module": "@jupyter-widgets/controls",
          "model_name": "HTMLModel",
          "state": {
            "_view_name": "HTMLView",
            "style": "IPY_MODEL_ca76911818754a508bbe11576c2066f7",
            "_dom_classes": [],
            "description": "",
            "_model_name": "HTMLModel",
            "placeholder": "​",
            "_view_module": "@jupyter-widgets/controls",
            "_model_module_version": "1.5.0",
            "value": " 250/250 [05:34&lt;00:00,  1.34s/it]",
            "_view_count": null,
            "_view_module_version": "1.5.0",
            "description_tooltip": null,
            "_model_module": "@jupyter-widgets/controls",
            "layout": "IPY_MODEL_1bf6489992164abab2fab0cccef137c6"
          }
        },
        "68d02f7f951e4aa29aaf2ff4ef77caeb": {
          "model_module": "@jupyter-widgets/controls",
          "model_name": "ProgressStyleModel",
          "state": {
            "_view_name": "StyleView",
            "_model_name": "ProgressStyleModel",
            "description_width": "initial",
            "_view_module": "@jupyter-widgets/base",
            "_model_module_version": "1.5.0",
            "_view_count": null,
            "_view_module_version": "1.2.0",
            "bar_color": null,
            "_model_module": "@jupyter-widgets/controls"
          }
        },
        "333bc53e4b50456997c8dff5c2139e7d": {
          "model_module": "@jupyter-widgets/base",
          "model_name": "LayoutModel",
          "state": {
            "_view_name": "LayoutView",
            "grid_template_rows": null,
            "right": null,
            "justify_content": null,
            "_view_module": "@jupyter-widgets/base",
            "overflow": null,
            "_model_module_version": "1.2.0",
            "_view_count": null,
            "flex_flow": null,
            "width": null,
            "min_width": null,
            "border": null,
            "align_items": null,
            "bottom": null,
            "_model_module": "@jupyter-widgets/base",
            "top": null,
            "grid_column": null,
            "overflow_y": null,
            "overflow_x": null,
            "grid_auto_flow": null,
            "grid_area": null,
            "grid_template_columns": null,
            "flex": null,
            "_model_name": "LayoutModel",
            "justify_items": null,
            "grid_row": null,
            "max_height": null,
            "align_content": null,
            "visibility": null,
            "align_self": null,
            "height": null,
            "min_height": null,
            "padding": null,
            "grid_auto_rows": null,
            "grid_gap": null,
            "max_width": null,
            "order": null,
            "_view_module_version": "1.2.0",
            "grid_template_areas": null,
            "object_position": null,
            "object_fit": null,
            "grid_auto_columns": null,
            "margin": null,
            "display": null,
            "left": null
          }
        },
        "ca76911818754a508bbe11576c2066f7": {
          "model_module": "@jupyter-widgets/controls",
          "model_name": "DescriptionStyleModel",
          "state": {
            "_view_name": "StyleView",
            "_model_name": "DescriptionStyleModel",
            "description_width": "",
            "_view_module": "@jupyter-widgets/base",
            "_model_module_version": "1.5.0",
            "_view_count": null,
            "_view_module_version": "1.2.0",
            "_model_module": "@jupyter-widgets/controls"
          }
        },
        "1bf6489992164abab2fab0cccef137c6": {
          "model_module": "@jupyter-widgets/base",
          "model_name": "LayoutModel",
          "state": {
            "_view_name": "LayoutView",
            "grid_template_rows": null,
            "right": null,
            "justify_content": null,
            "_view_module": "@jupyter-widgets/base",
            "overflow": null,
            "_model_module_version": "1.2.0",
            "_view_count": null,
            "flex_flow": null,
            "width": null,
            "min_width": null,
            "border": null,
            "align_items": null,
            "bottom": null,
            "_model_module": "@jupyter-widgets/base",
            "top": null,
            "grid_column": null,
            "overflow_y": null,
            "overflow_x": null,
            "grid_auto_flow": null,
            "grid_area": null,
            "grid_template_columns": null,
            "flex": null,
            "_model_name": "LayoutModel",
            "justify_items": null,
            "grid_row": null,
            "max_height": null,
            "align_content": null,
            "visibility": null,
            "align_self": null,
            "height": null,
            "min_height": null,
            "padding": null,
            "grid_auto_rows": null,
            "grid_gap": null,
            "max_width": null,
            "order": null,
            "_view_module_version": "1.2.0",
            "grid_template_areas": null,
            "object_position": null,
            "object_fit": null,
            "grid_auto_columns": null,
            "margin": null,
            "display": null,
            "left": null
          }
        }
      }
    }
  },
  "cells": [
    {
      "cell_type": "markdown",
      "metadata": {
        "id": "view-in-github",
        "colab_type": "text"
      },
      "source": [
        "<a href=\"https://colab.research.google.com/github/pstanisl/mlprague-2021/blob/main/CMAB-movielens_linucb_tf.ipynb\" target=\"_parent\"><img src=\"https://colab.research.google.com/assets/colab-badge.svg\" alt=\"Open In Colab\"/></a>"
      ]
    },
    {
      "cell_type": "code",
      "metadata": {
        "id": "qbVPxLuUR25T"
      },
      "source": [
        "!pip install tf-agents -q"
      ],
      "execution_count": 1,
      "outputs": []
    },
    {
      "cell_type": "code",
      "metadata": {
        "colab": {
          "base_uri": "https://localhost:8080/"
        },
        "id": "P2MMqktAoX5e",
        "outputId": "17f8a94e-a28e-480c-af06-bc1633e38d74"
      },
      "source": [
        "!rm -f ./utils.py\n",
        "!wget --no-check-certificate --no-cache --no-cookies \\\n",
        "    https://raw.githubusercontent.com/pstanisl/mlprague-2021/main/utils.py \\\n",
        "    -O ./utils.py\n",
        "\n",
        "!rm -f ./lin_bandit_agent.py\n",
        "!wget --no-check-certificate --no-cache --no-cookies \\\n",
        "    https://raw.githubusercontent.com/pstanisl/mlprague-2021/main/lin_bandit_agent.py \\\n",
        "    -O ./lin_bandit_agent.py"
      ],
      "execution_count": 2,
      "outputs": [
        {
          "output_type": "stream",
          "text": [
            "--2021-02-17 19:19:14--  https://raw.githubusercontent.com/pstanisl/mlprague-2021/main/utils.py\n",
            "Resolving raw.githubusercontent.com (raw.githubusercontent.com)... 185.199.108.133, 185.199.109.133, 185.199.110.133, ...\n",
            "Connecting to raw.githubusercontent.com (raw.githubusercontent.com)|185.199.108.133|:443... connected.\n",
            "HTTP request sent, awaiting response... 200 OK\n",
            "Length: 3657 (3.6K) [text/plain]\n",
            "Saving to: ‘./utils.py’\n",
            "\n",
            "\r./utils.py            0%[                    ]       0  --.-KB/s               \r./utils.py          100%[===================>]   3.57K  --.-KB/s    in 0s      \n",
            "\n",
            "2021-02-17 19:19:14 (41.1 MB/s) - ‘./utils.py’ saved [3657/3657]\n",
            "\n",
            "--2021-02-17 19:19:14--  https://raw.githubusercontent.com/pstanisl/mlprague-2021/main/lin_bandit_agent.py\n",
            "Resolving raw.githubusercontent.com (raw.githubusercontent.com)... 185.199.108.133, 185.199.109.133, 185.199.110.133, ...\n",
            "Connecting to raw.githubusercontent.com (raw.githubusercontent.com)|185.199.108.133|:443... connected.\n",
            "HTTP request sent, awaiting response... 200 OK\n",
            "Length: 16931 (17K) [text/plain]\n",
            "Saving to: ‘./lin_bandit_agent.py’\n",
            "\n",
            "./lin_bandit_agent. 100%[===================>]  16.53K  --.-KB/s    in 0.001s  \n",
            "\n",
            "2021-02-17 19:19:14 (12.6 MB/s) - ‘./lin_bandit_agent.py’ saved [16931/16931]\n",
            "\n"
          ],
          "name": "stdout"
        }
      ]
    },
    {
      "cell_type": "code",
      "metadata": {
        "id": "rUEquHXHRwwB"
      },
      "source": [
        "import functools\n",
        "import matplotlib.pyplot as plt\n",
        "import numpy as np\n",
        "import os\n",
        "import random\n",
        "import seaborn as sns\n",
        "import tensorflow as tf  # pylint: disable=g-explicit-tensorflow-version-import\n",
        "import tensorflow_probability as tfp\n",
        "import zipfile\n",
        "\n",
        "from tqdm.notebook import trange\n",
        "from typing import Optional, Sequence, Text\n",
        "\n",
        "from tf_agents.agents import data_converter\n",
        "from tf_agents.agents import tf_agent\n",
        "from tf_agents.bandits.agents import lin_ucb_agent\n",
        "from tf_agents.bandits.agents import linear_bandit_agent as lin_agent\n",
        "from tf_agents.bandits.environments import dataset_utilities\n",
        "from tf_agents.bandits.environments import environment_utilities\n",
        "from tf_agents.bandits.environments import bandit_py_environment\n",
        "from tf_agents.bandits.metrics import tf_metrics as tf_bandit_metrics\n",
        "from tf_agents.bandits.policies import constraints\n",
        "from tf_agents.bandits.policies import linalg\n",
        "from tf_agents.bandits.policies import linear_bandit_policy\n",
        "from tf_agents.bandits.policies import policy_utilities\n",
        "from tf_agents.bandits.specs import utils as bandit_spec_utils\n",
        "from tf_agents.drivers import dynamic_step_driver\n",
        "from tf_agents.eval import metric_utils\n",
        "from tf_agents.environments import tf_py_environment\n",
        "from tf_agents.policies import policy_saver\n",
        "from tf_agents.policies import tf_policy\n",
        "from tf_agents.replay_buffers import tf_uniform_replay_buffer\n",
        "from tf_agents.specs import array_spec\n",
        "from tf_agents.trajectories import policy_step\n",
        "from tf_agents.trajectories import time_step as ts\n",
        "from tf_agents.typing import types\n",
        "from tf_agents.utils import common\n",
        "from tf_agents.utils import nest_utils\n",
        "\n",
        "from lin_bandit_agent import LinearBanditAgent\n",
        "from utils import load_movielens_data, plot_regret\n",
        "\n",
        "# Apply the default theme\n",
        "sns.set_theme()"
      ],
      "execution_count": 3,
      "outputs": []
    },
    {
      "cell_type": "code",
      "metadata": {
        "colab": {
          "base_uri": "https://localhost:8080/"
        },
        "id": "r8_xdGprnyqb",
        "outputId": "8fca022a-52e7-4f35-e663-ab3dfbaaba4c"
      },
      "source": [
        "print(\"Downloading movielens data...\")\n",
        "\n",
        "!wget --no-check-certificate \\\n",
        "    http://files.grouplens.org/datasets/movielens/ml-100k.zip \\\n",
        "    -O ./movielens.zip\n",
        "\n",
        "zip_ref = zipfile.ZipFile('movielens.zip', \"r\")\n",
        "zip_ref.extractall()\n",
        "\n",
        "print(\"Done. Dataset contains:\")\n",
        "print(zip_ref.read('ml-100k/u.info').decode())"
      ],
      "execution_count": 4,
      "outputs": [
        {
          "output_type": "stream",
          "text": [
            "Downloading movielens data...\n",
            "--2021-02-17 19:19:17--  http://files.grouplens.org/datasets/movielens/ml-100k.zip\n",
            "Resolving files.grouplens.org (files.grouplens.org)... 128.101.65.152\n",
            "Connecting to files.grouplens.org (files.grouplens.org)|128.101.65.152|:80... connected.\n",
            "HTTP request sent, awaiting response... 200 OK\n",
            "Length: 4924029 (4.7M) [application/zip]\n",
            "Saving to: ‘./movielens.zip’\n",
            "\n",
            "./movielens.zip     100%[===================>]   4.70M  16.1MB/s    in 0.3s    \n",
            "\n",
            "2021-02-17 19:19:18 (16.1 MB/s) - ‘./movielens.zip’ saved [4924029/4924029]\n",
            "\n",
            "Done. Dataset contains:\n",
            "943 users\n",
            "1682 items\n",
            "100000 ratings\n",
            "\n"
          ],
          "name": "stdout"
        }
      ]
    },
    {
      "cell_type": "code",
      "metadata": {
        "id": "D2Tf9d1NcbF9"
      },
      "source": [
        "RANK_K = 20 # @param {type:\"integer\"}\n",
        "NUM_ACTIONS = 20 # @param {type:\"integer\"}"
      ],
      "execution_count": 5,
      "outputs": []
    },
    {
      "cell_type": "markdown",
      "metadata": {
        "id": "HvFAsPqLlmKQ"
      },
      "source": [
        "## Environment"
      ]
    },
    {
      "cell_type": "code",
      "metadata": {
        "id": "jW6QuzcKX8gq"
      },
      "source": [
        "class MovieLensPyEnvironment(bandit_py_environment.BanditPyEnvironment):\n",
        "  \"\"\"Implements the MovieLens Bandit environment.\n",
        "  This environment implements the MovieLens 100K dataset, available at:\n",
        "  https://www.kaggle.com/prajitdatta/movielens-100k-dataset\n",
        "  This dataset contains 100K ratings from 943 users on 1682 items.\n",
        "  This csv list of:\n",
        "  user id | item id | rating | timestamp.\n",
        "  This environment computes a low-rank matrix factorization (using SVD) of the\n",
        "  data matrix A, such that: A ~= U * V.\n",
        "  The reward of recommending item `j` to user `i` is provided as A_{ij}.\n",
        "  \"\"\"\n",
        "\n",
        "  def __init__(self,\n",
        "               data_dir: Text,\n",
        "               rank_k: int,\n",
        "               batch_size: int = 1,\n",
        "               num_movies: int = 20,\n",
        "               name: Optional[Text] = 'movielens'):\n",
        "    \"\"\"Initializes the MovieLens Bandit environment.\n",
        "    Args:\n",
        "      data_dir: (string) Directory where the data lies (in text form).\n",
        "      rank_k : (int) Which rank to use in the matrix factorization.\n",
        "      batch_size: (int) Number of observations generated per call.\n",
        "      num_movies: (int) Only the first `num_movies` movies will be used by the\n",
        "        environment. The rest is cut out from the data.\n",
        "      name: The name of this environment instance.\n",
        "    \"\"\"\n",
        "    self._num_actions = num_movies\n",
        "    self._batch_size = batch_size\n",
        "    self._context_dim = rank_k\n",
        "\n",
        "    # Compute the matrix factorization.\n",
        "    #self._data_matrix = dataset_utilities.load_movielens_data(data_dir)\n",
        "    self._data_matrix = load_movielens_data(data_dir)\n",
        "    # Keep only the first items.\n",
        "    self._data_matrix = self._data_matrix[:, :num_movies]\n",
        "    # Filter the users with no iterm rated.\n",
        "    nonzero_users = list(np.nonzero(np.sum(self._data_matrix, axis=1) > 0.0)[0])\n",
        "    self._data_matrix = self._data_matrix[nonzero_users, :]\n",
        "    self._effective_num_users = len(nonzero_users)\n",
        "\n",
        "    # Compute the SVD.\n",
        "    u, s, vh = np.linalg.svd(self._data_matrix, full_matrices=False)\n",
        "\n",
        "    # Keep only the largest singular values.\n",
        "    self._u_hat = u[:, :rank_k] * np.sqrt(s[:rank_k])\n",
        "    self._v_hat = np.transpose(\n",
        "        np.transpose(vh[:rank_k, :]) * np.sqrt(s[:rank_k]))\n",
        "    self._approx_ratings_matrix = np.matmul(self._u_hat, self._v_hat)\n",
        "\n",
        "    self._current_users = np.zeros(batch_size, dtype=np.int32)\n",
        "    self._previous_users = np.zeros(batch_size, dtype=np.int32)\n",
        "\n",
        "    self._action_spec = array_spec.BoundedArraySpec(\n",
        "        shape=(),\n",
        "        dtype=np.int32,\n",
        "        minimum=0,\n",
        "        maximum=self._num_actions - 1,\n",
        "        name='action')\n",
        "    observation_spec = array_spec.ArraySpec(\n",
        "        shape=(self._context_dim,), dtype=np.float64, name='observation')\n",
        "    self._time_step_spec = ts.time_step_spec(observation_spec)\n",
        "    self._observation = np.zeros((self._batch_size, self._context_dim))\n",
        "\n",
        "    self._optimal_action_table = np.argmax(\n",
        "        self._approx_ratings_matrix, axis=1)\n",
        "    self._optimal_reward_table = np.max(\n",
        "        self._approx_ratings_matrix, axis=1)\n",
        "\n",
        "    super(MovieLensPyEnvironment, self).__init__(\n",
        "        observation_spec, self._action_spec)\n",
        "\n",
        "  @property\n",
        "  def batch_size(self):\n",
        "    return self._batch_size\n",
        "\n",
        "  @property\n",
        "  def batched(self):\n",
        "    return True\n",
        "\n",
        "  def _observe(self):\n",
        "    \"\"\"Returns the u vectors of a random sample of users.\"\"\"\n",
        "    sampled_users = random.sample(\n",
        "        range(self._effective_num_users), self._batch_size)\n",
        "    self._previous_users = self._current_users\n",
        "    self._current_users = sampled_users\n",
        "    batched_observations = self._u_hat[sampled_users]\n",
        "    return batched_observations\n",
        "\n",
        "  def _apply_action(self, action):\n",
        "    \"\"\"Computes the reward for the input actions.\"\"\"\n",
        "    rewards = []\n",
        "    for i, j in zip(self._current_users, action):\n",
        "      rewards.append(self._approx_ratings_matrix[i, j])\n",
        "    return np.array(rewards)\n",
        "\n",
        "  def compute_optimal_action(self):\n",
        "    return self._optimal_action_table[self._previous_users]\n",
        "\n",
        "  def compute_optimal_reward(self):\n",
        "    return self._optimal_reward_table[self._previous_users]"
      ],
      "execution_count": 6,
      "outputs": []
    },
    {
      "cell_type": "code",
      "metadata": {
        "id": "JWLNxLEiT05z"
      },
      "source": [
        "env = MovieLensPyEnvironment('./ml-100k/u.data', RANK_K, 8, num_movies=NUM_ACTIONS)\n",
        "tf_env = tf_py_environment.TFPyEnvironment(env)"
      ],
      "execution_count": 7,
      "outputs": []
    },
    {
      "cell_type": "code",
      "metadata": {
        "colab": {
          "base_uri": "https://localhost:8080/"
        },
        "id": "vcRZbsaSUCEh",
        "outputId": "13d12aac-d364-4a0a-cca6-a4adde7aac7b"
      },
      "source": [
        "print('Observation spec:', tf_env.observation_spec())\n",
        "print('An observation: ', tf_env.reset().observation.numpy())\n",
        "\n",
        "action = tf.zeros(8, dtype=tf.int32)\n",
        "time_step = tf_env.step(action)\n",
        "\n",
        "print()\n",
        "print(f'Action={action.numpy()} (optimal={tf_env.compute_optimal_action()})')\n",
        "print(f'Reward={time_step.reward.numpy()} (optimal={tf_env.compute_optimal_reward()})')"
      ],
      "execution_count": 8,
      "outputs": [
        {
          "output_type": "stream",
          "text": [
            "Observation spec: TensorSpec(shape=(20,), dtype=tf.float64, name='observation')\n",
            "An observation:  [[-5.13789878e-01  1.99095754e-01 -2.85247940e-01  5.39772902e-01\n",
            "   1.15865621e-01  2.80694225e-01 -4.01669112e-02  5.72919493e-01\n",
            "   9.75337083e-02 -2.17115204e-01 -5.87411282e-02 -9.63943713e-03\n",
            "  -2.86380892e-02  1.16382584e-01 -5.72050230e-02 -1.45307910e-01\n",
            "  -1.68811957e-01 -6.96843041e-02  2.81647171e-03  1.34152941e-02]\n",
            " [-7.52694050e-02 -1.29031562e-01  7.81568311e-03  8.57805930e-02\n",
            "   5.60644616e-02  3.89731283e-02  8.74028154e-02 -2.65456267e-01\n",
            "   2.47763072e-01  2.84583236e-01 -3.99823824e-03  3.33617571e-01\n",
            "  -1.82183362e-01  1.11068986e-01  5.00999370e-02 -2.21205703e-02\n",
            "   3.61975009e-02 -8.27429330e-03 -3.79189753e-02 -2.91373346e-03]\n",
            " [-4.53848473e-01 -7.58264286e-01 -3.76889906e-02  3.45438839e-02\n",
            "  -9.25017676e-02  3.31525059e-01  2.91077889e-01 -1.46450908e-01\n",
            "   3.99302265e-02  2.73089394e-01 -1.58295326e-01 -3.55270658e-02\n",
            "   1.39652614e-01 -1.83473187e-01 -5.45289931e-01  1.33954408e-02\n",
            "   2.75704993e-01 -3.92028305e-02  2.75757243e-02  6.10983627e-02]\n",
            " [-4.89587867e-01  1.87080599e-02 -4.31924004e-01 -1.74016139e-01\n",
            "  -9.38389652e-02  1.82843590e-01 -1.34553132e-02 -3.37783225e-01\n",
            "  -1.70948736e-01 -4.41428862e-02  7.23729506e-02  4.25726104e-01\n",
            "  -1.50064395e-01  1.24550832e-02  5.59980575e-02  4.20276386e-02\n",
            "  -8.24948620e-03  1.20918350e-01 -5.20015904e-01  5.53939593e-02]\n",
            " [-1.84029519e-01  2.05312550e-01 -6.15560660e-02 -1.99481493e-03\n",
            "  -9.73174174e-02 -3.56591823e-01  2.59803028e-01  5.26185151e-02\n",
            "   7.44092196e-02 -4.52140137e-02  1.40130565e-04 -1.78934688e-02\n",
            "  -2.24736841e-02  1.10328720e-02 -2.63759572e-03 -4.17613348e-03\n",
            "  -3.34406329e-02 -1.54997606e-02 -7.03358569e-03 -1.45915499e-02]\n",
            " [-5.15744085e-01 -1.19481962e-01  4.29772406e-02 -1.17075581e-01\n",
            "   3.05204011e-01  2.02741228e-01  3.59027571e-01  4.06802219e-01\n",
            "  -3.82161585e-02  5.39741716e-01  1.48630688e-01  4.64189760e-01\n",
            "  -9.27626643e-02  2.03401033e-01  1.06603447e-01 -7.19403614e-02\n",
            "   2.79197342e-02 -3.90086716e-02  1.36511510e-03 -1.20014700e-02]\n",
            " [-1.41110795e-01  1.77905541e-01 -2.88501569e-01 -1.85561427e-02\n",
            "   1.72185292e-01 -1.22988713e-01  2.57776738e-01  9.64870410e-02\n",
            "  -6.94572216e-03 -5.11007221e-02  1.48902028e-02  7.12130673e-03\n",
            "  -5.79028186e-02  3.36250235e-02  2.36066449e-02 -7.72742047e-03\n",
            "  -2.27423251e-02 -2.62223264e-02 -1.28283225e-02 -2.12386146e-02]\n",
            " [-7.79376201e-01 -2.04528359e-01 -4.76392619e-01  3.44896994e-01\n",
            "   8.87455362e-02  1.40805455e-01 -2.99573530e-01  3.39237803e-01\n",
            "  -2.49757728e-01  3.83633143e-02 -3.52928908e-02 -4.53471732e-01\n",
            "   6.68121487e-02 -4.98000593e-01  2.48262325e-01 -1.56373841e-01\n",
            "   3.08173061e-01 -3.77214456e-02 -3.77580654e-02  3.63021703e-02]]\n",
            "\n",
            "Action=[0 0 0 0 0 0 0 0] (optimal=[14  3  1  0  0 11  0  0])\n",
            "Reward=[5.0000000e+00 4.2324784e-15 2.7002816e-14 4.0000000e+00 3.0000000e+00\n",
            " 4.0000000e+00 4.0000000e+00 5.0000000e+00] (optimal=[5. 4. 5. 4. 3. 5. 4. 5.])\n"
          ],
          "name": "stdout"
        }
      ]
    },
    {
      "cell_type": "markdown",
      "metadata": {
        "id": "qTjTE8ThV85o"
      },
      "source": [
        "## Policy"
      ]
    },
    {
      "cell_type": "code",
      "metadata": {
        "id": "10eDwxGDV-n6"
      },
      "source": [
        "class LinearUCBPolicy(linear_bandit_policy.LinearBanditPolicy):\n",
        "  \"\"\"LinearUCB policy is simplified version of LinearBanditPolicy from tf_agente.\"\"\"\n",
        "\n",
        "  def __init__(self,\n",
        "               action_spec: types.BoundedTensorSpec,\n",
        "               variable_collection: tf.Module,\n",
        "               time_step_spec: Optional[types.TimeStep] = None,\n",
        "               alpha: float = 1.0,\n",
        "               tikhonov_weight: float = 1.0,\n",
        "               name: Optional[Text] = None):\n",
        "    super(LinearUCBPolicy, self).__init__(\n",
        "        action_spec,\n",
        "        cov_matrix=variable_collection.cov_matrix_list,\n",
        "        data_vector=variable_collection.data_vector_list,\n",
        "        num_samples=variable_collection.num_samples_list,\n",
        "        time_step_spec=time_step_spec,\n",
        "        exploration_strategy=linear_bandit_policy.ExplorationStrategy.optimistic,\n",
        "        alpha=alpha,\n",
        "        tikhonov_weight=tikhonov_weight,\n",
        "        name=name)\n",
        "\n",
        "  def _distribution(self, time_step, policy_state):\n",
        "    observation = tf.nest.map_structure(lambda o: tf.cast(o, dtype=self._dtype),\n",
        "                                        time_step.observation)\n",
        "    \n",
        "    current_observation = tf.reshape(\n",
        "        observation, [-1, self._global_context_dim])\n",
        "\n",
        "    est_rewards = []\n",
        "    confidence_intervals = []\n",
        "\n",
        "    for model_index in range(self._num_actions):\n",
        "      # Compute confidence interval for action(i): x^T*A^-1*x\n",
        "      # 1: A^-1*x -> A^-1x\n",
        "      a_inv_x = linalg.conjugate_gradient_solve(\n",
        "          self._cov_matrix[model_index] + self._tikhonov_weight *\n",
        "          tf.eye(self._overall_context_dim, dtype=self._dtype),\n",
        "          tf.linalg.matrix_transpose(current_observation))\n",
        "      # 2: x^T*A^-1x -> confidence interval of action(i)\n",
        "      ci = tf.reshape(\n",
        "          tf.linalg.tensor_diag_part(tf.matmul(current_observation, a_inv_x)),\n",
        "          [-1, 1])\n",
        "      \n",
        "      confidence_intervals.append(ci)\n",
        "      est_mean_reward = tf.einsum('j,jk->k', self._data_vector[model_index],\n",
        "                                  a_inv_x)\n",
        "      est_rewards.append(est_mean_reward)\n",
        "    # Estimate rewards for every action\n",
        "    optimistic_estimates = [\n",
        "        tf.reshape(mean_reward, [-1, 1]) + self._alpha * tf.sqrt(confidence)\n",
        "        for mean_reward, confidence in zip(est_rewards, confidence_intervals)\n",
        "    ]\n",
        "    # Keeping the batch dimension during the squeeze, even if batch_size == 1.\n",
        "    rewards_for_argmax = tf.squeeze(\n",
        "        tf.stack(optimistic_estimates, axis=-1), axis=[1])\n",
        "    # Choose the best action for every observation in the batch\n",
        "    chosen_actions = tf.argmax(\n",
        "        rewards_for_argmax,\n",
        "        axis=-1,\n",
        "        output_type=tf.nest.flatten(self._action_spec)[0].dtype)\n",
        "\n",
        "    action_distributions = tfp.distributions.Deterministic(loc=chosen_actions)\n",
        "\n",
        "    policy_info = policy_utilities.populate_policy_info(\n",
        "        None, chosen_actions, rewards_for_argmax,\n",
        "        tf.stack(est_rewards, axis=-1), self._emit_policy_info,\n",
        "        False)\n",
        "\n",
        "    return policy_step.PolicyStep(\n",
        "        action_distributions, policy_state, policy_info)\n",
        "    "
      ],
      "execution_count": 9,
      "outputs": []
    },
    {
      "cell_type": "markdown",
      "metadata": {
        "id": "Uo3YPdpkxYsr"
      },
      "source": [
        "## Agent"
      ]
    },
    {
      "cell_type": "code",
      "metadata": {
        "id": "uMo6hdUpD6hO"
      },
      "source": [
        "class LinearUCBAgent(LinearBanditAgent):\n",
        "    def __init__(self,\n",
        "               time_step_spec: types.TimeStep,\n",
        "               action_spec: types.BoundedTensorSpec,\n",
        "               alpha: float = 1.0,\n",
        "               tikhonov_weight: float = 1.0,\n",
        "               dtype: tf.DType = tf.float32,\n",
        "               name: Optional[Text] = None):\n",
        "      \n",
        "      _num_actions = policy_utilities.get_num_actions_from_tensor_spec(\n",
        "        action_spec)\n",
        "\n",
        "      variable_collection = lin_agent.LinearBanditVariableCollection(\n",
        "          context_dim=_num_actions,\n",
        "          num_models=_num_actions,\n",
        "          use_eigendecomp=False,\n",
        "          dtype=dtype)\n",
        "\n",
        "      policy = LinearUCBPolicy(\n",
        "          action_spec=action_spec,\n",
        "          variable_collection=variable_collection,\n",
        "          time_step_spec=time_step_spec,\n",
        "          alpha=alpha,\n",
        "          tikhonov_weight=tikhonov_weight\n",
        "      )\n",
        "\n",
        "      super(LinearUCBAgent, self).__init__(\n",
        "          time_step_spec=time_step_spec,\n",
        "          action_spec=action_spec,\n",
        "          policy=policy,\n",
        "          variable_collection=variable_collection,\n",
        "          alpha=alpha,\n",
        "          tikhonov_weight=tikhonov_weight,\n",
        "          dtype=dtype,\n",
        "          name=name\n",
        "      )\n",
        "\n"
      ],
      "execution_count": 10,
      "outputs": []
    },
    {
      "cell_type": "code",
      "metadata": {
        "id": "bG8LVv2rW1sK"
      },
      "source": [
        "agent = LinearUCBAgent(\n",
        "    time_step_spec=tf_env.time_step_spec(),\n",
        "    action_spec=tf_env.action_spec(),\n",
        "    tikhonov_weight=0.001,\n",
        "    alpha=10.0,\n",
        "    dtype=tf.float32\n",
        ")"
      ],
      "execution_count": 11,
      "outputs": []
    },
    {
      "cell_type": "code",
      "metadata": {
        "colab": {
          "base_uri": "https://localhost:8080/"
        },
        "id": "HPg7h-hIlTnx",
        "outputId": "d4e45234-25d6-4809-a0c1-0e2fb2770b51"
      },
      "source": [
        "print('training data spec: ', agent.training_data_spec)"
      ],
      "execution_count": 12,
      "outputs": [
        {
          "output_type": "stream",
          "text": [
            "training data spec:  Trajectory(step_type=TensorSpec(shape=(), dtype=tf.int32, name='step_type'), observation=TensorSpec(shape=(20,), dtype=tf.float64, name='observation'), action=BoundedTensorSpec(shape=(), dtype=tf.int32, name='action', minimum=array(0, dtype=int32), maximum=array(19, dtype=int32)), policy_info=PolicyInfo(log_probability=(), predicted_rewards_mean=(), predicted_rewards_optimistic=(), predicted_rewards_sampled=(), bandit_policy_type=()), next_step_type=TensorSpec(shape=(), dtype=tf.int32, name='step_type'), reward=TensorSpec(shape=(), dtype=tf.float32, name='reward'), discount=BoundedTensorSpec(shape=(), dtype=tf.float32, name='discount', minimum=array(0., dtype=float32), maximum=array(1., dtype=float32)))\n"
          ],
          "name": "stdout"
        }
      ]
    },
    {
      "cell_type": "code",
      "metadata": {
        "colab": {
          "base_uri": "https://localhost:8080/"
        },
        "id": "1ei7Ivo6lbzb",
        "outputId": "e015f6ce-c9d5-4401-96d4-048ae4bedcc4"
      },
      "source": [
        "print('observation spec in training: ', agent.training_data_spec.observation)"
      ],
      "execution_count": 13,
      "outputs": [
        {
          "output_type": "stream",
          "text": [
            "observation spec in training:  TensorSpec(shape=(20,), dtype=tf.float64, name='observation')\n"
          ],
          "name": "stdout"
        }
      ]
    },
    {
      "cell_type": "markdown",
      "metadata": {
        "id": "nDjYCtBUl2j4"
      },
      "source": [
        "## Experiment"
      ]
    },
    {
      "cell_type": "code",
      "metadata": {
        "id": "Ao7VTTAYM8Bu"
      },
      "source": [
        "def set_expected_shape(experience, num_steps):\n",
        "  def set_time_dim(input_tensor, steps):\n",
        "    tensor_shape = input_tensor.shape.as_list()\n",
        "    tensor_shape[1] = steps\n",
        "    input_tensor.set_shape(tensor_shape)\n",
        "  tf.nest.map_structure(lambda t: set_time_dim(t, num_steps), experience)"
      ],
      "execution_count": 14,
      "outputs": []
    },
    {
      "cell_type": "code",
      "metadata": {
        "id": "P5foepaVcv9Y"
      },
      "source": [
        "def run(\n",
        "    environment, \n",
        "    agent, \n",
        "    iterations, \n",
        "    steps_per_loop,\n",
        "    additional_metrics=()\n",
        "):\n",
        "  replay_buffer = tf_uniform_replay_buffer.TFUniformReplayBuffer(\n",
        "      data_spec=agent.policy.trajectory_spec,\n",
        "      batch_size=environment.batch_size,\n",
        "      max_length=steps_per_loop)\n",
        "  \n",
        "  metrics = [] + list(additional_metrics)\n",
        "  ret_metrics = dict([(m.name, []) for m in metrics])\n",
        "\n",
        "  observers = [replay_buffer.add_batch] + metrics\n",
        "\n",
        "  driver = dynamic_step_driver.DynamicStepDriver(\n",
        "      env=environment,\n",
        "      policy=agent.collect_policy,\n",
        "      num_steps=steps_per_loop * environment.batch_size,\n",
        "      observers=observers)\n",
        "\n",
        "  regret_values = []\n",
        "\n",
        "  for _ in trange(num_iterations):\n",
        "    driver.run()\n",
        "    loss_info = agent.train(replay_buffer.gather_all())\n",
        "    replay_buffer.clear()\n",
        "    # Log metrics value\n",
        "    for metric in metrics:\n",
        "      ret_metrics[metric.name].append(metric.result())\n",
        "\n",
        "  return ret_metrics"
      ],
      "execution_count": 15,
      "outputs": []
    },
    {
      "cell_type": "code",
      "metadata": {
        "id": "HTmTQNtQpk_a"
      },
      "source": [
        "def get_metrics(environment):\n",
        "  optimal_reward_fn = functools.partial(\n",
        "        environment_utilities.compute_optimal_reward_with_movielens_environment,\n",
        "        environment=tf_env)\n",
        "  optimal_action_fn = functools.partial(\n",
        "        environment_utilities.compute_optimal_action_with_movielens_environment,\n",
        "        environment=tf_env)\n",
        "  \n",
        "  regret_metric = tf_bandit_metrics.RegretMetric(\n",
        "      optimal_reward_fn, \n",
        "      name='regret'\n",
        "  )\n",
        "  suboptimal_arms_metric = tf_bandit_metrics.SuboptimalArmsMetric(\n",
        "      optimal_action_fn,\n",
        "      name='suboptimal_arms'\n",
        "  )\n",
        "  \n",
        "  return [regret_metric, suboptimal_arms_metric]"
      ],
      "execution_count": 16,
      "outputs": []
    },
    {
      "cell_type": "code",
      "metadata": {
        "colab": {
          "base_uri": "https://localhost:8080/",
          "height": 272,
          "referenced_widgets": [
            "ab8adbdfc9c942ea95e76576e55cfd9e",
            "a381ec7f2dbb4a8089d92c382d57ea36",
            "a202c925a2114c3aaa03f60b01703124",
            "c5c1fcdb9054401686afb240ce4c1e01",
            "68d02f7f951e4aa29aaf2ff4ef77caeb",
            "333bc53e4b50456997c8dff5c2139e7d",
            "ca76911818754a508bbe11576c2066f7",
            "1bf6489992164abab2fab0cccef137c6"
          ]
        },
        "id": "9yxB1q29LqWV",
        "outputId": "03e2579c-5055-4567-dbe7-0639ad68d9bb"
      },
      "source": [
        "batch_size =  64      # @param {type:\"integer\"}\n",
        "num_iterations = 250  # @param {type:\"integer\"}\n",
        "steps_per_loop = 2    # @param {type:\"integer\"}\n",
        "agent_alpha = 10.0    # @param {type: \"number\"}\n",
        "\n",
        "env = MovieLensPyEnvironment(\n",
        "    './ml-100k/u.data', \n",
        "    rank_k=RANK_K, \n",
        "    batch_size=batch_size, \n",
        "    num_movies=NUM_ACTIONS\n",
        ")\n",
        "tf_env = tf_py_environment.TFPyEnvironment(env)\n",
        "tf_env.reset()\n",
        "\n",
        "agent = LinearUCBAgent(\n",
        "    time_step_spec=tf_env.time_step_spec(),\n",
        "    action_spec=tf_env.action_spec(),\n",
        "    tikhonov_weight=0.001,\n",
        "    alpha=agent_alpha,\n",
        "    dtype=tf.float32\n",
        ")\n",
        "\n",
        "additional_metrics = get_metrics(tf_env)\n",
        "\n",
        "metrics = run(\n",
        "    tf_env, \n",
        "    agent, \n",
        "    iterations=num_iterations,\n",
        "    steps_per_loop=steps_per_loop,\n",
        "    additional_metrics=additional_metrics\n",
        ")"
      ],
      "execution_count": 17,
      "outputs": [
        {
          "output_type": "display_data",
          "data": {
            "application/vnd.jupyter.widget-view+json": {
              "model_id": "ab8adbdfc9c942ea95e76576e55cfd9e",
              "version_minor": 0,
              "version_major": 2
            },
            "text/plain": [
              "HBox(children=(FloatProgress(value=0.0, max=250.0), HTML(value='')))"
            ]
          },
          "metadata": {
            "tags": []
          }
        },
        {
          "output_type": "stream",
          "text": [
            "WARNING:tensorflow:From /usr/local/lib/python3.6/dist-packages/tf_agents/drivers/dynamic_step_driver.py:203: calling while_loop_v2 (from tensorflow.python.ops.control_flow_ops) with back_prop=False is deprecated and will be removed in a future version.\n",
            "Instructions for updating:\n",
            "back_prop=False is deprecated. Consider using tf.stop_gradient instead.\n",
            "Instead of:\n",
            "results = tf.while_loop(c, b, vars, back_prop=False)\n",
            "Use:\n",
            "results = tf.nest.map_structure(tf.stop_gradient, tf.while_loop(c, b, vars))\n",
            "WARNING:tensorflow:From <ipython-input-15-f0fa4f3e72bf>:28: ReplayBuffer.gather_all (from tf_agents.replay_buffers.replay_buffer) is deprecated and will be removed in a future version.\n",
            "Instructions for updating:\n",
            "Use `as_dataset(..., single_deterministic_pass=True)` instead.\n",
            "\n"
          ],
          "name": "stdout"
        }
      ]
    },
    {
      "cell_type": "code",
      "metadata": {
        "id": "jqo41BBZXLZh",
        "colab": {
          "base_uri": "https://localhost:8080/",
          "height": 464
        },
        "outputId": "6dc2792d-df2a-45f3-a7ad-c5247681a373"
      },
      "source": [
        "plot_regret(metrics['regret'], {'algorithm': 'LinUCB'})"
      ],
      "execution_count": 18,
      "outputs": [
        {
          "output_type": "display_data",
          "data": {
            "image/png": "[encoded data removed]",
            "text/plain": [
              "<Figure size 720x504 with 1 Axes>"
            ]
          },
          "metadata": {
            "tags": []
          }
        }
      ]
    },
    {
      "cell_type": "code",
      "metadata": {
        "id": "twY91LYsehYx",
        "colab": {
          "base_uri": "https://localhost:8080/",
          "height": 464
        },
        "outputId": "4b0c5552-55dc-42e9-c4b4-e58ba93810c2"
      },
      "source": [
        "plt.figure(figsize=(10, 7))\n",
        "plt.plot(metrics['suboptimal_arms'])\n",
        "plt.title('Regret of LinUCB on the Linear per-arm environment')\n",
        "plt.xlabel('Number of Iterations')\n",
        "_ = plt.ylabel('Average Regret')"
      ],
      "execution_count": 19,
      "outputs": [
        {
          "output_type": "display_data",
          "data": {
            "image/png": "[encoded data removed]",
            "text/plain": [
              "<Figure size 720x504 with 1 Axes>"
            ]
          },
          "metadata": {
            "tags": []
          }
        }
      ]
    },
    {
      "cell_type": "code",
      "metadata": {
        "id": "XYdibk130cGM"
      },
      "source": [
        ""
      ],
      "execution_count": 19,
      "outputs": []
    }
  ]
}