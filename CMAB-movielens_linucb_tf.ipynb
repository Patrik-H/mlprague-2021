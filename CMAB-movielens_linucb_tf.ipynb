{
  "nbformat": 4,
  "nbformat_minor": 0,
  "metadata": {
    "colab": {
      "name": "02-movielens_linucb_tf.ipynb",
      "provenance": [],
      "authorship_tag": "ABX9TyMuhxYoJDb4drdoa7C6s2Lc",
      "include_colab_link": true
    },
    "kernelspec": {
      "name": "python3",
      "display_name": "Python 3"
    },
    "widgets": {
      "application/vnd.jupyter.widget-state+json": {
        "8c71c470cf424c6399d3a38a58fd0ef8": {
          "model_module": "@jupyter-widgets/controls",
          "model_name": "HBoxModel",
          "state": {
            "_view_name": "HBoxView",
            "_dom_classes": [],
            "_model_name": "HBoxModel",
            "_view_module": "@jupyter-widgets/controls",
            "_model_module_version": "1.5.0",
            "_view_count": null,
            "_view_module_version": "1.5.0",
            "box_style": "",
            "layout": "IPY_MODEL_e6d92e2ada34411a8dc2cc935f7dd2e9",
            "_model_module": "@jupyter-widgets/controls",
            "children": [
              "IPY_MODEL_919872a152fd4e89b4191117d909eb37",
              "IPY_MODEL_f3ec62f766cd45fdb47036f415e2678a"
            ]
          }
        },
        "e6d92e2ada34411a8dc2cc935f7dd2e9": {
          "model_module": "@jupyter-widgets/base",
          "model_name": "LayoutModel",
          "state": {
            "_view_name": "LayoutView",
            "grid_template_rows": null,
            "right": null,
            "justify_content": null,
            "_view_module": "@jupyter-widgets/base",
            "overflow": null,
            "_model_module_version": "1.2.0",
            "_view_count": null,
            "flex_flow": null,
            "width": null,
            "min_width": null,
            "border": null,
            "align_items": null,
            "bottom": null,
            "_model_module": "@jupyter-widgets/base",
            "top": null,
            "grid_column": null,
            "overflow_y": null,
            "overflow_x": null,
            "grid_auto_flow": null,
            "grid_area": null,
            "grid_template_columns": null,
            "flex": null,
            "_model_name": "LayoutModel",
            "justify_items": null,
            "grid_row": null,
            "max_height": null,
            "align_content": null,
            "visibility": null,
            "align_self": null,
            "height": null,
            "min_height": null,
            "padding": null,
            "grid_auto_rows": null,
            "grid_gap": null,
            "max_width": null,
            "order": null,
            "_view_module_version": "1.2.0",
            "grid_template_areas": null,
            "object_position": null,
            "object_fit": null,
            "grid_auto_columns": null,
            "margin": null,
            "display": null,
            "left": null
          }
        },
        "919872a152fd4e89b4191117d909eb37": {
          "model_module": "@jupyter-widgets/controls",
          "model_name": "FloatProgressModel",
          "state": {
            "_view_name": "ProgressView",
            "style": "IPY_MODEL_cd44709011a2455dad2beb3f8a86a0d9",
            "_dom_classes": [],
            "description": "100%",
            "_model_name": "FloatProgressModel",
            "bar_style": "success",
            "max": 100,
            "_view_module": "@jupyter-widgets/controls",
            "_model_module_version": "1.5.0",
            "value": 100,
            "_view_count": null,
            "_view_module_version": "1.5.0",
            "orientation": "horizontal",
            "min": 0,
            "description_tooltip": null,
            "_model_module": "@jupyter-widgets/controls",
            "layout": "IPY_MODEL_c56f2a93fed241e285c3477f64a576e0"
          }
        },
        "f3ec62f766cd45fdb47036f415e2678a": {
          "model_module": "@jupyter-widgets/controls",
          "model_name": "HTMLModel",
          "state": {
            "_view_name": "HTMLView",
            "style": "IPY_MODEL_d1664632fedc4654a3d81a42070c3885",
            "_dom_classes": [],
            "description": "",
            "_model_name": "HTMLModel",
            "placeholder": "​",
            "_view_module": "@jupyter-widgets/controls",
            "_model_module_version": "1.5.0",
            "value": " 100/100 [00:56&lt;00:00,  1.77it/s]",
            "_view_count": null,
            "_view_module_version": "1.5.0",
            "description_tooltip": null,
            "_model_module": "@jupyter-widgets/controls",
            "layout": "IPY_MODEL_3a88d84010f64b458b21a334cf7d503b"
          }
        },
        "cd44709011a2455dad2beb3f8a86a0d9": {
          "model_module": "@jupyter-widgets/controls",
          "model_name": "ProgressStyleModel",
          "state": {
            "_view_name": "StyleView",
            "_model_name": "ProgressStyleModel",
            "description_width": "initial",
            "_view_module": "@jupyter-widgets/base",
            "_model_module_version": "1.5.0",
            "_view_count": null,
            "_view_module_version": "1.2.0",
            "bar_color": null,
            "_model_module": "@jupyter-widgets/controls"
          }
        },
        "c56f2a93fed241e285c3477f64a576e0": {
          "model_module": "@jupyter-widgets/base",
          "model_name": "LayoutModel",
          "state": {
            "_view_name": "LayoutView",
            "grid_template_rows": null,
            "right": null,
            "justify_content": null,
            "_view_module": "@jupyter-widgets/base",
            "overflow": null,
            "_model_module_version": "1.2.0",
            "_view_count": null,
            "flex_flow": null,
            "width": null,
            "min_width": null,
            "border": null,
            "align_items": null,
            "bottom": null,
            "_model_module": "@jupyter-widgets/base",
            "top": null,
            "grid_column": null,
            "overflow_y": null,
            "overflow_x": null,
            "grid_auto_flow": null,
            "grid_area": null,
            "grid_template_columns": null,
            "flex": null,
            "_model_name": "LayoutModel",
            "justify_items": null,
            "grid_row": null,
            "max_height": null,
            "align_content": null,
            "visibility": null,
            "align_self": null,
            "height": null,
            "min_height": null,
            "padding": null,
            "grid_auto_rows": null,
            "grid_gap": null,
            "max_width": null,
            "order": null,
            "_view_module_version": "1.2.0",
            "grid_template_areas": null,
            "object_position": null,
            "object_fit": null,
            "grid_auto_columns": null,
            "margin": null,
            "display": null,
            "left": null
          }
        },
        "d1664632fedc4654a3d81a42070c3885": {
          "model_module": "@jupyter-widgets/controls",
          "model_name": "DescriptionStyleModel",
          "state": {
            "_view_name": "StyleView",
            "_model_name": "DescriptionStyleModel",
            "description_width": "",
            "_view_module": "@jupyter-widgets/base",
            "_model_module_version": "1.5.0",
            "_view_count": null,
            "_view_module_version": "1.2.0",
            "_model_module": "@jupyter-widgets/controls"
          }
        },
        "3a88d84010f64b458b21a334cf7d503b": {
          "model_module": "@jupyter-widgets/base",
          "model_name": "LayoutModel",
          "state": {
            "_view_name": "LayoutView",
            "grid_template_rows": null,
            "right": null,
            "justify_content": null,
            "_view_module": "@jupyter-widgets/base",
            "overflow": null,
            "_model_module_version": "1.2.0",
            "_view_count": null,
            "flex_flow": null,
            "width": null,
            "min_width": null,
            "border": null,
            "align_items": null,
            "bottom": null,
            "_model_module": "@jupyter-widgets/base",
            "top": null,
            "grid_column": null,
            "overflow_y": null,
            "overflow_x": null,
            "grid_auto_flow": null,
            "grid_area": null,
            "grid_template_columns": null,
            "flex": null,
            "_model_name": "LayoutModel",
            "justify_items": null,
            "grid_row": null,
            "max_height": null,
            "align_content": null,
            "visibility": null,
            "align_self": null,
            "height": null,
            "min_height": null,
            "padding": null,
            "grid_auto_rows": null,
            "grid_gap": null,
            "max_width": null,
            "order": null,
            "_view_module_version": "1.2.0",
            "grid_template_areas": null,
            "object_position": null,
            "object_fit": null,
            "grid_auto_columns": null,
            "margin": null,
            "display": null,
            "left": null
          }
        }
      }
    }
  },
  "cells": [
    {
      "cell_type": "markdown",
      "metadata": {
        "id": "view-in-github",
        "colab_type": "text"
      },
      "source": [
        "<a href=\"https://colab.research.google.com/github/pstanisl/mlprague-2021/blob/main/CMAB-movielens_linucb_tf.ipynb\" target=\"_parent\"><img src=\"https://colab.research.google.com/assets/colab-badge.svg\" alt=\"Open In Colab\"/></a>"
      ]
    },
    {
      "cell_type": "code",
      "metadata": {
        "id": "qbVPxLuUR25T"
      },
      "source": [
        "!pip install tf-agents -q"
      ],
      "execution_count": 20,
      "outputs": []
    },
    {
      "cell_type": "code",
      "metadata": {
        "colab": {
          "base_uri": "https://localhost:8080/"
        },
        "id": "P2MMqktAoX5e",
        "outputId": "b63aa6a2-2765-4113-8fd8-7dc2d9a6a5b4"
      },
      "source": [
        "!rm -f ./utils.py\n",
        "!wget --no-check-certificate --no-cache --no-cookies \\\n",
        "    https://raw.githubusercontent.com/pstanisl/mlprague-2021/main/utils.py \\\n",
        "    -O ./utils.py\n",
        "\n",
        "!rm -f ./lin_bandit_agent.py\n",
        "!wget --no-check-certificate --no-cache --no-cookies \\\n",
        "    https://raw.githubusercontent.com/pstanisl/mlprague-2021/main/lin_bandit_agent.py \\\n",
        "    -O ./lin_bandit_agent.py"
      ],
      "execution_count": 21,
      "outputs": [
        {
          "output_type": "stream",
          "text": [
            "--2021-02-17 20:08:52--  https://raw.githubusercontent.com/pstanisl/mlprague-2021/main/utils.py\n",
            "Resolving raw.githubusercontent.com (raw.githubusercontent.com)... 185.199.108.133, 185.199.109.133, 185.199.110.133, ...\n",
            "Connecting to raw.githubusercontent.com (raw.githubusercontent.com)|185.199.108.133|:443... connected.\n",
            "HTTP request sent, awaiting response... 200 OK\n",
            "Length: 3657 (3.6K) [text/plain]\n",
            "Saving to: ‘./utils.py’\n",
            "\n",
            "\r./utils.py            0%[                    ]       0  --.-KB/s               \r./utils.py          100%[===================>]   3.57K  --.-KB/s    in 0s      \n",
            "\n",
            "2021-02-17 20:08:52 (17.0 MB/s) - ‘./utils.py’ saved [3657/3657]\n",
            "\n",
            "--2021-02-17 20:08:53--  https://raw.githubusercontent.com/pstanisl/mlprague-2021/main/lin_bandit_agent.py\n",
            "Resolving raw.githubusercontent.com (raw.githubusercontent.com)... 185.199.108.133, 185.199.109.133, 185.199.110.133, ...\n",
            "Connecting to raw.githubusercontent.com (raw.githubusercontent.com)|185.199.108.133|:443... connected.\n",
            "HTTP request sent, awaiting response... 200 OK\n",
            "Length: 16931 (17K) [text/plain]\n",
            "Saving to: ‘./lin_bandit_agent.py’\n",
            "\n",
            "./lin_bandit_agent. 100%[===================>]  16.53K  --.-KB/s    in 0.001s  \n",
            "\n",
            "2021-02-17 20:08:53 (12.9 MB/s) - ‘./lin_bandit_agent.py’ saved [16931/16931]\n",
            "\n"
          ],
          "name": "stdout"
        }
      ]
    },
    {
      "cell_type": "code",
      "metadata": {
        "id": "rUEquHXHRwwB"
      },
      "source": [
        "import functools\n",
        "import matplotlib.pyplot as plt\n",
        "import numpy as np\n",
        "import random\n",
        "import tensorflow as tf  # pylint: disable=g-explicit-tensorflow-version-import\n",
        "import tensorflow_probability as tfp\n",
        "import zipfile\n",
        "\n",
        "from tqdm.notebook import trange\n",
        "from typing import Optional, Sequence, Text\n",
        "\n",
        "from tf_agents.bandits.agents import linear_bandit_agent as lin_agent\n",
        "from tf_agents.bandits.environments import environment_utilities\n",
        "from tf_agents.bandits.environments import bandit_py_environment\n",
        "from tf_agents.bandits.metrics import tf_metrics as tf_bandit_metrics\n",
        "from tf_agents.bandits.policies import linalg\n",
        "from tf_agents.bandits.policies import linear_bandit_policy\n",
        "from tf_agents.bandits.policies import policy_utilities\n",
        "from tf_agents.drivers import dynamic_step_driver\n",
        "from tf_agents.environments import tf_py_environment\n",
        "from tf_agents.replay_buffers import tf_uniform_replay_buffer\n",
        "from tf_agents.specs import array_spec\n",
        "from tf_agents.trajectories import policy_step\n",
        "from tf_agents.trajectories import time_step as ts\n",
        "from tf_agents.typing import types\n",
        "\n",
        "from lin_bandit_agent import LinearBanditAgent\n",
        "from utils import load_movielens_data, plot_regret"
      ],
      "execution_count": 22,
      "outputs": []
    },
    {
      "cell_type": "code",
      "metadata": {
        "colab": {
          "base_uri": "https://localhost:8080/"
        },
        "id": "r8_xdGprnyqb",
        "outputId": "54139419-c12c-4321-9db7-9febec507dcd"
      },
      "source": [
        "print(\"Downloading movielens data...\")\n",
        "\n",
        "!wget --no-check-certificate \\\n",
        "    http://files.grouplens.org/datasets/movielens/ml-100k.zip \\\n",
        "    -O ./movielens.zip\n",
        "\n",
        "zip_ref = zipfile.ZipFile('movielens.zip', \"r\")\n",
        "zip_ref.extractall()\n",
        "\n",
        "print(\"Done. Dataset contains:\")\n",
        "print(zip_ref.read('ml-100k/u.info').decode())"
      ],
      "execution_count": 23,
      "outputs": [
        {
          "output_type": "stream",
          "text": [
            "Downloading movielens data...\n",
            "--2021-02-17 20:08:54--  http://files.grouplens.org/datasets/movielens/ml-100k.zip\n",
            "Resolving files.grouplens.org (files.grouplens.org)... 128.101.65.152\n",
            "Connecting to files.grouplens.org (files.grouplens.org)|128.101.65.152|:80... connected.\n",
            "HTTP request sent, awaiting response... 200 OK\n",
            "Length: 4924029 (4.7M) [application/zip]\n",
            "Saving to: ‘./movielens.zip’\n",
            "\n",
            "./movielens.zip     100%[===================>]   4.70M  16.1MB/s    in 0.3s    \n",
            "\n",
            "2021-02-17 20:08:54 (16.1 MB/s) - ‘./movielens.zip’ saved [4924029/4924029]\n",
            "\n",
            "Done. Dataset contains:\n",
            "943 users\n",
            "1682 items\n",
            "100000 ratings\n",
            "\n"
          ],
          "name": "stdout"
        }
      ]
    },
    {
      "cell_type": "code",
      "metadata": {
        "id": "D2Tf9d1NcbF9"
      },
      "source": [
        "RANK_K = 20 # @param {type:\"integer\"}\n",
        "NUM_ACTIONS = 20 # @param {type:\"integer\"}"
      ],
      "execution_count": 24,
      "outputs": []
    },
    {
      "cell_type": "markdown",
      "metadata": {
        "id": "HvFAsPqLlmKQ"
      },
      "source": [
        "## Environment"
      ]
    },
    {
      "cell_type": "code",
      "metadata": {
        "id": "jW6QuzcKX8gq"
      },
      "source": [
        "class MovieLensPyEnvironment(bandit_py_environment.BanditPyEnvironment):\n",
        "  \"\"\"Implements the MovieLens Bandit environment.\n",
        "  This environment implements the MovieLens 100K dataset, available at:\n",
        "  https://www.kaggle.com/prajitdatta/movielens-100k-dataset\n",
        "  This dataset contains 100K ratings from 943 users on 1682 items.\n",
        "  This csv list of:\n",
        "  user id | item id | rating | timestamp.\n",
        "  This environment computes a low-rank matrix factorization (using SVD) of the\n",
        "  data matrix A, such that: A ~= U * V.\n",
        "  The reward of recommending item `j` to user `i` is provided as A_{ij}.\n",
        "  \"\"\"\n",
        "\n",
        "  def __init__(self,\n",
        "               data_dir: Text,\n",
        "               rank_k: int,\n",
        "               batch_size: int = 1,\n",
        "               num_movies: int = 20,\n",
        "               name: Optional[Text] = 'movielens'):\n",
        "    \"\"\"Initializes the MovieLens Bandit environment.\n",
        "    Args:\n",
        "      data_dir: (string) Directory where the data lies (in text form).\n",
        "      rank_k : (int) Which rank to use in the matrix factorization.\n",
        "      batch_size: (int) Number of observations generated per call.\n",
        "      num_movies: (int) Only the first `num_movies` movies will be used by the\n",
        "        environment. The rest is cut out from the data.\n",
        "      name: The name of this environment instance.\n",
        "    \"\"\"\n",
        "    self._num_actions = num_movies\n",
        "    self._batch_size = batch_size\n",
        "    self._context_dim = rank_k\n",
        "\n",
        "    # Compute the matrix factorization.\n",
        "    #self._data_matrix = dataset_utilities.load_movielens_data(data_dir)\n",
        "    self._data_matrix = load_movielens_data(data_dir)\n",
        "    # Keep only the first items.\n",
        "    self._data_matrix = self._data_matrix[:, :num_movies]\n",
        "    # Filter the users with no iterm rated.\n",
        "    nonzero_users = list(np.nonzero(np.sum(self._data_matrix, axis=1) > 0.0)[0])\n",
        "    self._data_matrix = self._data_matrix[nonzero_users, :]\n",
        "    self._effective_num_users = len(nonzero_users)\n",
        "\n",
        "    # Compute the SVD.\n",
        "    u, s, vh = np.linalg.svd(self._data_matrix, full_matrices=False)\n",
        "\n",
        "    # Keep only the largest singular values.\n",
        "    self._u_hat = u[:, :rank_k] * np.sqrt(s[:rank_k])\n",
        "    self._v_hat = np.transpose(\n",
        "        np.transpose(vh[:rank_k, :]) * np.sqrt(s[:rank_k]))\n",
        "    self._approx_ratings_matrix = np.matmul(self._u_hat, self._v_hat)\n",
        "\n",
        "    self._current_users = np.zeros(batch_size, dtype=np.int32)\n",
        "    self._previous_users = np.zeros(batch_size, dtype=np.int32)\n",
        "\n",
        "    self._action_spec = array_spec.BoundedArraySpec(\n",
        "        shape=(),\n",
        "        dtype=np.int32,\n",
        "        minimum=0,\n",
        "        maximum=self._num_actions - 1,\n",
        "        name='action')\n",
        "    observation_spec = array_spec.ArraySpec(\n",
        "        shape=(self._context_dim,), dtype=np.float64, name='observation')\n",
        "    self._time_step_spec = ts.time_step_spec(observation_spec)\n",
        "    self._observation = np.zeros((self._batch_size, self._context_dim))\n",
        "\n",
        "    self._optimal_action_table = np.argmax(\n",
        "        self._approx_ratings_matrix, axis=1)\n",
        "    self._optimal_reward_table = np.max(\n",
        "        self._approx_ratings_matrix, axis=1)\n",
        "\n",
        "    super(MovieLensPyEnvironment, self).__init__(\n",
        "        observation_spec, self._action_spec)\n",
        "\n",
        "  @property\n",
        "  def batch_size(self):\n",
        "    return self._batch_size\n",
        "\n",
        "  @property\n",
        "  def batched(self):\n",
        "    return True\n",
        "\n",
        "  def _observe(self):\n",
        "    \"\"\"Returns the u vectors of a random sample of users.\"\"\"\n",
        "    sampled_users = random.sample(\n",
        "        range(self._effective_num_users), self._batch_size)\n",
        "    self._previous_users = self._current_users\n",
        "    self._current_users = sampled_users\n",
        "    batched_observations = self._u_hat[sampled_users]\n",
        "    return batched_observations\n",
        "\n",
        "  def _apply_action(self, action):\n",
        "    \"\"\"Computes the reward for the input actions.\"\"\"\n",
        "    rewards = []\n",
        "    for i, j in zip(self._current_users, action):\n",
        "      rewards.append(self._approx_ratings_matrix[i, j])\n",
        "    return np.array(rewards)\n",
        "\n",
        "  def compute_optimal_action(self):\n",
        "    return self._optimal_action_table[self._previous_users]\n",
        "\n",
        "  def compute_optimal_reward(self):\n",
        "    return self._optimal_reward_table[self._previous_users]"
      ],
      "execution_count": 25,
      "outputs": []
    },
    {
      "cell_type": "code",
      "metadata": {
        "id": "JWLNxLEiT05z"
      },
      "source": [
        "env = MovieLensPyEnvironment('./ml-100k/u.data', RANK_K, 8, num_movies=NUM_ACTIONS)\n",
        "tf_env = tf_py_environment.TFPyEnvironment(env)"
      ],
      "execution_count": 26,
      "outputs": []
    },
    {
      "cell_type": "code",
      "metadata": {
        "colab": {
          "base_uri": "https://localhost:8080/"
        },
        "id": "vcRZbsaSUCEh",
        "outputId": "86c6fbe0-80c8-46f4-c075-54ce5bca672e"
      },
      "source": [
        "print('Observation spec:', tf_env.observation_spec())\n",
        "print('An observation: ', tf_env.reset().observation.numpy())\n",
        "\n",
        "action = tf.zeros(8, dtype=tf.int32)\n",
        "time_step = tf_env.step(action)\n",
        "\n",
        "print()\n",
        "print(f'Action={action.numpy()} (optimal={tf_env.compute_optimal_action()})')\n",
        "print(f'Reward={time_step.reward.numpy()} (optimal={tf_env.compute_optimal_reward()})')"
      ],
      "execution_count": 27,
      "outputs": [
        {
          "output_type": "stream",
          "text": [
            "Observation spec: TensorSpec(shape=(20,), dtype=tf.float64, name='observation')\n",
            "An observation:  [[-6.70063183e-02  1.60076993e-01 -6.71401301e-02  1.55866923e-01\n",
            "  -1.80690749e-01  2.31107195e-01 -1.28600151e-01 -2.35471523e-02\n",
            "   8.88083544e-03 -3.22296729e-03 -5.91989353e-02  3.40465379e-02\n",
            "   2.65611956e-02  2.11803659e-03 -8.60388779e-04  4.35205244e-03\n",
            "  -3.56304723e-02  8.06073313e-03 -1.45161876e-03  1.18553879e-02]\n",
            " [-2.91687357e-01  2.29935501e-01 -3.48071775e-01 -1.26604843e-01\n",
            "  -1.22805126e-01  1.53578093e-01 -1.67099917e-01  5.91289152e-02\n",
            "  -1.19440326e-02  1.16265046e-01  5.29313465e-03 -1.65728467e-01\n",
            "  -1.10968103e-01 -2.85248581e-02  4.09928392e-01 -1.33756968e-01\n",
            "   2.07715522e-01 -5.50815135e-02 -5.95825380e-02 -2.55953006e-03]\n",
            " [-2.60899324e-01  7.99655984e-02  1.94797288e-01 -3.55490500e-01\n",
            "  -4.18344052e-01 -4.51641099e-01 -2.03176191e-01  1.33421463e-02\n",
            "   8.94658317e-02  1.22374864e-01  1.77105494e-02  4.76049719e-02\n",
            "   4.93908223e-02 -6.55426121e-02 -3.84867443e-02 -1.55069874e-02\n",
            "   6.62351260e-03  1.77942658e-02 -7.15148024e-03 -8.69358496e-03]\n",
            " [-3.44402247e-01 -2.33791240e-01 -9.37006780e-02 -2.65710265e-01\n",
            "   1.08977077e-02  9.07199889e-02 -7.24206105e-02  6.44361843e-01\n",
            "   2.09170547e-02  6.26328341e-02  2.57284913e-03  1.22451363e-01\n",
            "  -1.69812303e-02  4.28649665e-02 -2.03356588e-02 -5.23076621e-02\n",
            "  -6.46268948e-03 -7.86072641e-03  5.21551826e-03 -1.01284201e-02]\n",
            " [-3.45284419e-01  2.01907803e-01 -1.93214641e-01 -3.24331125e-01\n",
            "  -1.02664977e-01 -3.42689729e-01  1.24410102e-01  3.11278949e-02\n",
            "   5.47909175e-02  7.11041402e-02 -1.29477712e-02 -2.01624989e-01\n",
            "   2.42914872e-02  4.00044206e-01 -3.88315460e-01  3.48142843e-02\n",
            "   4.14332946e-01 -7.78326168e-02 -2.26911047e-02  4.58755907e-03]\n",
            " [-8.92832216e-01  2.86341689e-01  3.31426714e-01 -1.04769315e-01\n",
            "   1.05227004e-01  2.75496301e-01  3.00252558e-01  1.77201537e-01\n",
            "   3.51129312e-01  2.97272234e-01 -3.45783903e-01  6.33589037e-01\n",
            "   3.35074513e-01  2.47897963e-01  4.17690473e-01  2.02151022e-01\n",
            "   6.51826909e-02 -1.26777589e-01  1.12810344e-01  1.44842233e-02]\n",
            " [-1.13295604e-01  2.49288199e-01  4.45685342e-03  1.70996027e-01\n",
            "  -1.59332998e-01  3.44646923e-01 -1.93501727e-01 -9.02642126e-02\n",
            "  -7.09751379e-03 -1.22178377e-01 -2.52523293e-01  9.55404175e-03\n",
            "  -1.25931293e-01  1.28294944e-02 -1.42432327e-01 -6.52955421e-01\n",
            "  -1.99375829e-01 -2.12562081e-01 -7.73243265e-02  3.80648778e-02]\n",
            " [-3.42190795e-01  3.16456594e-01  6.62336514e-02 -1.27786083e-01\n",
            "  -3.26645493e-01  3.46647141e-01 -3.92420145e-01 -1.77274811e-01\n",
            "   3.32375157e-01 -1.66518984e-01 -1.67784362e-01 -1.11535502e-01\n",
            "   3.26943294e-01  2.55426987e-01 -1.76762397e-01  1.79338772e-01\n",
            "   2.89070727e-01 -8.43355785e-02  6.88892068e-02  4.22959362e-02]]\n",
            "\n",
            "Action=[0 0 0 0 0 0 0 0] (optimal=[14 14  8 11  0  0 14 14])\n",
            "Reward=[8.6117755e-16 3.0000000e+00 7.8074821e-15 2.0000000e+00 4.0000000e+00\n",
            " 5.0000000e+00 1.2197808e-15 1.0433311e-14] (optimal=[3. 3. 5. 5. 4. 5. 4. 5.])\n"
          ],
          "name": "stdout"
        }
      ]
    },
    {
      "cell_type": "markdown",
      "metadata": {
        "id": "qTjTE8ThV85o"
      },
      "source": [
        "## Policy"
      ]
    },
    {
      "cell_type": "code",
      "metadata": {
        "id": "10eDwxGDV-n6"
      },
      "source": [
        "class LinearUCBPolicy(linear_bandit_policy.LinearBanditPolicy):\n",
        "  \"\"\"LinearUCB policy is simplified version of LinearBanditPolicy from tf_agente.\"\"\"\n",
        "\n",
        "  def __init__(self,\n",
        "               action_spec: types.BoundedTensorSpec,\n",
        "               variable_collection: tf.Module,\n",
        "               time_step_spec: Optional[types.TimeStep] = None,\n",
        "               alpha: float = 1.0,\n",
        "               tikhonov_weight: float = 1.0,\n",
        "               name: Optional[Text] = None):\n",
        "    super(LinearUCBPolicy, self).__init__(\n",
        "        action_spec,\n",
        "        cov_matrix=variable_collection.cov_matrix_list,\n",
        "        data_vector=variable_collection.data_vector_list,\n",
        "        num_samples=variable_collection.num_samples_list,\n",
        "        time_step_spec=time_step_spec,\n",
        "        alpha=alpha,\n",
        "        tikhonov_weight=tikhonov_weight,\n",
        "        name=name)\n",
        "\n",
        "  def _distribution(self, time_step, policy_state):\n",
        "    observation = tf.nest.map_structure(lambda o: tf.cast(o, dtype=self._dtype),\n",
        "                                        time_step.observation)\n",
        "    \n",
        "    current_observation = tf.reshape(\n",
        "        observation, [-1, self._global_context_dim])\n",
        "\n",
        "    est_rewards = []\n",
        "    confidence_intervals = []\n",
        "\n",
        "    for model_index in range(self._num_actions):\n",
        "      # Compute confidence interval for action(i): x^T*A^-1*x\n",
        "      # 1: A^-1*x -> A^-1x\n",
        "      a_inv_x = linalg.conjugate_gradient_solve(\n",
        "          self._cov_matrix[model_index] + self._tikhonov_weight *\n",
        "          tf.eye(self._overall_context_dim, dtype=self._dtype),\n",
        "          tf.linalg.matrix_transpose(current_observation))\n",
        "      # 2: x^T*A^-1x -> confidence interval of action(i)\n",
        "      ci = tf.reshape(\n",
        "          tf.linalg.tensor_diag_part(tf.matmul(current_observation, a_inv_x)),\n",
        "          [-1, 1])\n",
        "      \n",
        "      confidence_intervals.append(ci)\n",
        "      est_mean_reward = tf.einsum('j,jk->k', self._data_vector[model_index],\n",
        "                                  a_inv_x)\n",
        "      est_rewards.append(est_mean_reward)\n",
        "    # Estimate rewards for every action\n",
        "    optimistic_estimates = [\n",
        "        tf.reshape(mean_reward, [-1, 1]) + self._alpha * tf.sqrt(confidence)\n",
        "        for mean_reward, confidence in zip(est_rewards, confidence_intervals)\n",
        "    ]\n",
        "    # Keeping the batch dimension during the squeeze, even if batch_size == 1.\n",
        "    rewards_for_argmax = tf.squeeze(\n",
        "        tf.stack(optimistic_estimates, axis=-1), axis=[1])\n",
        "    # Choose the best action for every observation in the batch\n",
        "    chosen_actions = tf.argmax(\n",
        "        rewards_for_argmax,\n",
        "        axis=-1,\n",
        "        output_type=tf.nest.flatten(self._action_spec)[0].dtype)\n",
        "\n",
        "    action_distributions = tfp.distributions.Deterministic(loc=chosen_actions)\n",
        "\n",
        "    policy_info = policy_utilities.populate_policy_info(\n",
        "        None, chosen_actions, rewards_for_argmax,\n",
        "        tf.stack(est_rewards, axis=-1), self._emit_policy_info,\n",
        "        False)\n",
        "\n",
        "    return policy_step.PolicyStep(\n",
        "        action_distributions, policy_state, policy_info)\n",
        "    "
      ],
      "execution_count": 28,
      "outputs": []
    },
    {
      "cell_type": "markdown",
      "metadata": {
        "id": "Uo3YPdpkxYsr"
      },
      "source": [
        "## Agent"
      ]
    },
    {
      "cell_type": "code",
      "metadata": {
        "id": "c71jtEc-nT1s"
      },
      "source": [
        "from tf_agents.agents import tf_agent"
      ],
      "execution_count": 37,
      "outputs": []
    },
    {
      "cell_type": "code",
      "metadata": {
        "id": "uMo6hdUpD6hO"
      },
      "source": [
        "class LinearUCBAgent(LinearBanditAgent):\n",
        "    def __init__(self,\n",
        "               time_step_spec: types.TimeStep,\n",
        "               action_spec: types.BoundedTensorSpec,\n",
        "               alpha: float = 1.0,\n",
        "               tikhonov_weight: float = 1.0,\n",
        "               dtype: tf.DType = tf.float32,\n",
        "               name: Optional[Text] = None):\n",
        "      \n",
        "      _num_actions = policy_utilities.get_num_actions_from_tensor_spec(\n",
        "        action_spec)\n",
        "\n",
        "      variable_collection = lin_agent.LinearBanditVariableCollection(\n",
        "          context_dim=_num_actions,\n",
        "          num_models=_num_actions,\n",
        "          use_eigendecomp=False,\n",
        "          dtype=dtype)\n",
        "\n",
        "      policy = LinearUCBPolicy(\n",
        "          action_spec=action_spec,\n",
        "          variable_collection=variable_collection,\n",
        "          time_step_spec=time_step_spec,\n",
        "          alpha=alpha,\n",
        "          tikhonov_weight=tikhonov_weight\n",
        "      )\n",
        "\n",
        "      super(LinearUCBAgent, self).__init__(\n",
        "          time_step_spec=time_step_spec,\n",
        "          action_spec=action_spec,\n",
        "          policy=policy,\n",
        "          variable_collection=variable_collection,\n",
        "          alpha=alpha,\n",
        "          tikhonov_weight=tikhonov_weight,\n",
        "          dtype=dtype,\n",
        "          name=name\n",
        "      )\n",
        "    \n",
        "    def _train(self, experience, weights=None):\n",
        "      \"\"\"Updates the policy based on the data in `experience`.\n",
        "      Note that `experience` should only contain data points that this agent has\n",
        "      not previously seen. If `experience` comes from a replay buffer, this buffer\n",
        "      should be cleared between each call to `train`.\n",
        "      Args:\n",
        "        experience: A batch of experience data in the form of a `Trajectory`.\n",
        "        weights: Unused.\n",
        "      Returns:\n",
        "          A `LossInfo` containing the loss *before* the training step is taken.\n",
        "          In most cases, if `weights` is provided, the entries of this tuple will\n",
        "          have been calculated with the weights.  Note that each Agent chooses\n",
        "          its own method of applying weights.\n",
        "      \"\"\"\n",
        "      experience = self._as_trajectory(experience)\n",
        "\n",
        "      del weights  # unused\n",
        "\n",
        "      reward, action, observation, batch_size = self._process_experience(\n",
        "          experience)\n",
        "      \n",
        "      for k in range(self._num_models):\n",
        "        diag_mask = tf.linalg.tensor_diag(\n",
        "            tf.cast(tf.equal(action, k), self._dtype))\n",
        "        #print(f'{k} - diag_mas={diag_mask}')\n",
        "        observations_for_arm = tf.matmul(diag_mask, observation)\n",
        "        #print(f'{k} - observations_for_arm={observations_for_arm}')\n",
        "        rewards_for_arm = tf.matmul(diag_mask, tf.reshape(reward, [-1, 1]))\n",
        "\n",
        "        num_samples_for_arm_current = tf.reduce_sum(diag_mask)\n",
        "        #print(f'{k} - num_samples_for_arm_current={num_samples_for_arm_current}')\n",
        "        tf.compat.v1.assign_add(self._num_samples_list[k],\n",
        "                                num_samples_for_arm_current)\n",
        "        num_samples_for_arm_total = self._num_samples_list[k].read_value()\n",
        "\n",
        "        # Update the matrix A and b.\n",
        "        # pylint: disable=cell-var-from-loop,g-long-lambda\n",
        "        def update(cov_matrix, data_vector):\n",
        "          return lin_agent.update_a_and_b_with_forgetting(\n",
        "              cov_matrix, data_vector, rewards_for_arm, observations_for_arm,\n",
        "              self._gamma, self._use_eigendecomp)\n",
        "          \n",
        "        a_new, b_new, eig_vals, eig_matrix = tf.cond(\n",
        "            tf.squeeze(num_samples_for_arm_total) > 0,\n",
        "            lambda: update(self._cov_matrix_list[k], self._data_vector_list[k]),\n",
        "            lambda: (self._cov_matrix_list[k], self._data_vector_list[k],\n",
        "                    self._eig_vals_list[k], self._eig_matrix_list[k]))\n",
        "\n",
        "        tf.compat.v1.assign(self._cov_matrix_list[k], a_new)\n",
        "        tf.compat.v1.assign(self._data_vector_list[k], b_new)\n",
        "        tf.compat.v1.assign(self._eig_vals_list[k], eig_vals)\n",
        "        tf.compat.v1.assign(self._eig_matrix_list[k], eig_matrix)\n",
        "\n",
        "      loss = -1. * tf.reduce_sum(reward)\n",
        "      self.compute_summaries(loss)\n",
        "\n",
        "      self._train_step_counter.assign_add(batch_size)\n",
        "\n",
        "      return tf_agent.LossInfo(loss=(loss), extra=())\n"
      ],
      "execution_count": 69,
      "outputs": []
    },
    {
      "cell_type": "code",
      "metadata": {
        "id": "bG8LVv2rW1sK"
      },
      "source": [
        "agent = LinearUCBAgent(\n",
        "    time_step_spec=tf_env.time_step_spec(),\n",
        "    action_spec=tf_env.action_spec(),\n",
        "    tikhonov_weight=0.001,\n",
        "    alpha=10.0,\n",
        "    dtype=tf.float32\n",
        ")"
      ],
      "execution_count": 46,
      "outputs": []
    },
    {
      "cell_type": "code",
      "metadata": {
        "colab": {
          "base_uri": "https://localhost:8080/"
        },
        "id": "HPg7h-hIlTnx",
        "outputId": "415a507f-d4a2-4208-e068-5c8eb4312d47"
      },
      "source": [
        "print('training data spec: ', agent.training_data_spec)"
      ],
      "execution_count": 34,
      "outputs": [
        {
          "output_type": "stream",
          "text": [
            "training data spec:  Trajectory(step_type=TensorSpec(shape=(), dtype=tf.int32, name='step_type'), observation=TensorSpec(shape=(20,), dtype=tf.float64, name='observation'), action=BoundedTensorSpec(shape=(), dtype=tf.int32, name='action', minimum=array(0, dtype=int32), maximum=array(19, dtype=int32)), policy_info=PolicyInfo(log_probability=(), predicted_rewards_mean=(), predicted_rewards_optimistic=(), predicted_rewards_sampled=(), bandit_policy_type=()), next_step_type=TensorSpec(shape=(), dtype=tf.int32, name='step_type'), reward=TensorSpec(shape=(), dtype=tf.float32, name='reward'), discount=BoundedTensorSpec(shape=(), dtype=tf.float32, name='discount', minimum=array(0., dtype=float32), maximum=array(1., dtype=float32)))\n"
          ],
          "name": "stdout"
        }
      ]
    },
    {
      "cell_type": "code",
      "metadata": {
        "colab": {
          "base_uri": "https://localhost:8080/"
        },
        "id": "1ei7Ivo6lbzb",
        "outputId": "7c78b05c-9f6a-4567-e961-3cdf1ff650ae"
      },
      "source": [
        "print('observation spec in training: ', agent.training_data_spec.observation)"
      ],
      "execution_count": 35,
      "outputs": [
        {
          "output_type": "stream",
          "text": [
            "observation spec in training:  TensorSpec(shape=(20,), dtype=tf.float64, name='observation')\n"
          ],
          "name": "stdout"
        }
      ]
    },
    {
      "cell_type": "markdown",
      "metadata": {
        "id": "nDjYCtBUl2j4"
      },
      "source": [
        "## Experiment"
      ]
    },
    {
      "cell_type": "code",
      "metadata": {
        "id": "Ao7VTTAYM8Bu"
      },
      "source": [
        "def set_expected_shape(experience, num_steps):\n",
        "  def set_time_dim(input_tensor, steps):\n",
        "    tensor_shape = input_tensor.shape.as_list()\n",
        "    tensor_shape[1] = steps\n",
        "    input_tensor.set_shape(tensor_shape)\n",
        "  tf.nest.map_structure(lambda t: set_time_dim(t, num_steps), experience)"
      ],
      "execution_count": 14,
      "outputs": []
    },
    {
      "cell_type": "code",
      "metadata": {
        "id": "P5foepaVcv9Y"
      },
      "source": [
        "def run(\n",
        "    environment, \n",
        "    agent, \n",
        "    iterations, \n",
        "    steps_per_loop,\n",
        "    additional_metrics=()\n",
        "):\n",
        "  replay_buffer = tf_uniform_replay_buffer.TFUniformReplayBuffer(\n",
        "      data_spec=agent.policy.trajectory_spec,\n",
        "      batch_size=environment.batch_size,\n",
        "      max_length=steps_per_loop)\n",
        "  \n",
        "  metrics = [] + list(additional_metrics)\n",
        "  ret_metrics = dict([(m.name, []) for m in metrics])\n",
        "\n",
        "  observers = [replay_buffer.add_batch] + metrics\n",
        "\n",
        "  driver = dynamic_step_driver.DynamicStepDriver(\n",
        "      env=environment,\n",
        "      policy=agent.collect_policy,\n",
        "      num_steps=steps_per_loop * environment.batch_size,\n",
        "      observers=observers)\n",
        "\n",
        "  for _ in trange(num_iterations):\n",
        "    driver.run()\n",
        "    loss_info = agent.train(replay_buffer.gather_all())\n",
        "    replay_buffer.clear()\n",
        "    # Log metrics value\n",
        "    for metric in metrics:\n",
        "      ret_metrics[metric.name].append(metric.result())\n",
        "\n",
        "  return ret_metrics"
      ],
      "execution_count": 67,
      "outputs": []
    },
    {
      "cell_type": "code",
      "metadata": {
        "id": "HTmTQNtQpk_a"
      },
      "source": [
        "def get_metrics(environment):\n",
        "  optimal_reward_fn = functools.partial(\n",
        "        environment_utilities.compute_optimal_reward_with_movielens_environment,\n",
        "        environment=tf_env)\n",
        "  optimal_action_fn = functools.partial(\n",
        "        environment_utilities.compute_optimal_action_with_movielens_environment,\n",
        "        environment=tf_env)\n",
        "  \n",
        "  regret_metric = tf_bandit_metrics.RegretMetric(\n",
        "      optimal_reward_fn, \n",
        "      name='regret'\n",
        "  )\n",
        "  suboptimal_arms_metric = tf_bandit_metrics.SuboptimalArmsMetric(\n",
        "      optimal_action_fn,\n",
        "      name='suboptimal_arms'\n",
        "  )\n",
        "  \n",
        "  return [regret_metric, suboptimal_arms_metric]"
      ],
      "execution_count": 16,
      "outputs": []
    },
    {
      "cell_type": "code",
      "metadata": {
        "colab": {
          "base_uri": "https://localhost:8080/",
          "height": 1000,
          "referenced_widgets": [
            "8c71c470cf424c6399d3a38a58fd0ef8",
            "e6d92e2ada34411a8dc2cc935f7dd2e9",
            "919872a152fd4e89b4191117d909eb37",
            "f3ec62f766cd45fdb47036f415e2678a",
            "cd44709011a2455dad2beb3f8a86a0d9",
            "c56f2a93fed241e285c3477f64a576e0",
            "d1664632fedc4654a3d81a42070c3885",
            "3a88d84010f64b458b21a334cf7d503b"
          ]
        },
        "id": "9yxB1q29LqWV",
        "outputId": "bed7b130-ac3e-45bd-f56e-84cb6480b3b3"
      },
      "source": [
        "batch_size = 8  # @param {type:\"integer\"}\n",
        "num_iterations =   100# @param {type:\"integer\"}\n",
        "steps_per_loop =   4# @param {type:\"integer\"}\n",
        "agent_alpha = 10.0  # @param {type: \"number\"}\n",
        "\n",
        "env = MovieLensPyEnvironment(\n",
        "    './ml-100k/u.data', \n",
        "    rank_k=RANK_K, \n",
        "    batch_size=batch_size, \n",
        "    num_movies=NUM_ACTIONS\n",
        ")\n",
        "tf_env = tf_py_environment.TFPyEnvironment(env)\n",
        "tf_env.reset()\n",
        "\n",
        "agent = LinearUCBAgent(\n",
        "    time_step_spec=tf_env.time_step_spec(),\n",
        "    action_spec=tf_env.action_spec(),\n",
        "    tikhonov_weight=0.001,\n",
        "    alpha=agent_alpha,\n",
        "    dtype=tf.float32\n",
        ")\n",
        "\n",
        "additional_metrics = get_metrics(tf_env)\n",
        "\n",
        "metrics = run(\n",
        "    tf_env, \n",
        "    agent, \n",
        "    iterations=num_iterations,\n",
        "    steps_per_loop=steps_per_loop,\n",
        "    additional_metrics=additional_metrics\n",
        ")"
      ],
      "execution_count": 70,
      "outputs": [
        {
          "output_type": "display_data",
          "data": {
            "application/vnd.jupyter.widget-view+json": {
              "model_id": "8c71c470cf424c6399d3a38a58fd0ef8",
              "version_minor": 0,
              "version_major": 2
            },
            "text/plain": [
              "HBox(children=(FloatProgress(value=0.0), HTML(value='')))"
            ]
          },
          "metadata": {
            "tags": []
          }
        },
        {
          "output_type": "stream",
          "text": [
            "WARNING:tensorflow:5 out of the last 17 calls to <function TFStepMetric._update_state at 0x7fb465bba620> triggered tf.function retracing. Tracing is expensive and the excessive number of tracings could be due to (1) creating @tf.function repeatedly in a loop, (2) passing tensors with different shapes, (3) passing Python objects instead of tensors. For (1), please define your @tf.function outside of the loop. For (2), @tf.function has experimental_relax_shapes=True option that relaxes argument shapes that can avoid unnecessary retracing. For (3), please refer to https://www.tensorflow.org/guide/function#controlling_retracing and https://www.tensorflow.org/api_docs/python/tf/function for  more details.\n",
            "loss_info=LossInfo(loss=<tf.Tensor: shape=(), dtype=float32, numpy=-87.0>, extra=())\n",
            "loss_info=LossInfo(loss=<tf.Tensor: shape=(), dtype=float32, numpy=-16.0>, extra=())\n",
            "loss_info=LossInfo(loss=<tf.Tensor: shape=(), dtype=float32, numpy=-13.0>, extra=())\n",
            "loss_info=LossInfo(loss=<tf.Tensor: shape=(), dtype=float32, numpy=-20.0>, extra=())\n",
            "loss_info=LossInfo(loss=<tf.Tensor: shape=(), dtype=float32, numpy=-12.0>, extra=())\n",
            "loss_info=LossInfo(loss=<tf.Tensor: shape=(), dtype=float32, numpy=-3.319424e-14>, extra=())\n",
            "loss_info=LossInfo(loss=<tf.Tensor: shape=(), dtype=float32, numpy=-37.0>, extra=())\n",
            "loss_info=LossInfo(loss=<tf.Tensor: shape=(), dtype=float32, numpy=-21.0>, extra=())\n",
            "loss_info=LossInfo(loss=<tf.Tensor: shape=(), dtype=float32, numpy=-60.0>, extra=())\n",
            "loss_info=LossInfo(loss=<tf.Tensor: shape=(), dtype=float32, numpy=-13.0>, extra=())\n",
            "loss_info=LossInfo(loss=<tf.Tensor: shape=(), dtype=float32, numpy=-46.0>, extra=())\n",
            "loss_info=LossInfo(loss=<tf.Tensor: shape=(), dtype=float32, numpy=-67.0>, extra=())\n",
            "loss_info=LossInfo(loss=<tf.Tensor: shape=(), dtype=float32, numpy=-29.0>, extra=())\n",
            "loss_info=LossInfo(loss=<tf.Tensor: shape=(), dtype=float32, numpy=-42.0>, extra=())\n",
            "loss_info=LossInfo(loss=<tf.Tensor: shape=(), dtype=float32, numpy=-45.0>, extra=())\n",
            "loss_info=LossInfo(loss=<tf.Tensor: shape=(), dtype=float32, numpy=-3.0>, extra=())\n",
            "loss_info=LossInfo(loss=<tf.Tensor: shape=(), dtype=float32, numpy=-8.0>, extra=())\n",
            "loss_info=LossInfo(loss=<tf.Tensor: shape=(), dtype=float32, numpy=1.5123389e-15>, extra=())\n",
            "loss_info=LossInfo(loss=<tf.Tensor: shape=(), dtype=float32, numpy=-14.0>, extra=())\n",
            "loss_info=LossInfo(loss=<tf.Tensor: shape=(), dtype=float32, numpy=-18.0>, extra=())\n",
            "loss_info=LossInfo(loss=<tf.Tensor: shape=(), dtype=float32, numpy=-44.0>, extra=())\n",
            "loss_info=LossInfo(loss=<tf.Tensor: shape=(), dtype=float32, numpy=-55.0>, extra=())\n",
            "loss_info=LossInfo(loss=<tf.Tensor: shape=(), dtype=float32, numpy=-70.0>, extra=())\n",
            "loss_info=LossInfo(loss=<tf.Tensor: shape=(), dtype=float32, numpy=-101.0>, extra=())\n",
            "loss_info=LossInfo(loss=<tf.Tensor: shape=(), dtype=float32, numpy=-106.0>, extra=())\n",
            "loss_info=LossInfo(loss=<tf.Tensor: shape=(), dtype=float32, numpy=-102.0>, extra=())\n",
            "loss_info=LossInfo(loss=<tf.Tensor: shape=(), dtype=float32, numpy=-116.0>, extra=())\n",
            "loss_info=LossInfo(loss=<tf.Tensor: shape=(), dtype=float32, numpy=-112.0>, extra=())\n",
            "loss_info=LossInfo(loss=<tf.Tensor: shape=(), dtype=float32, numpy=-102.0>, extra=())\n",
            "loss_info=LossInfo(loss=<tf.Tensor: shape=(), dtype=float32, numpy=-106.0>, extra=())\n",
            "loss_info=LossInfo(loss=<tf.Tensor: shape=(), dtype=float32, numpy=-121.0>, extra=())\n",
            "loss_info=LossInfo(loss=<tf.Tensor: shape=(), dtype=float32, numpy=-131.0>, extra=())\n",
            "loss_info=LossInfo(loss=<tf.Tensor: shape=(), dtype=float32, numpy=-129.0>, extra=())\n",
            "loss_info=LossInfo(loss=<tf.Tensor: shape=(), dtype=float32, numpy=-130.0>, extra=())\n",
            "loss_info=LossInfo(loss=<tf.Tensor: shape=(), dtype=float32, numpy=-142.0>, extra=())\n",
            "loss_info=LossInfo(loss=<tf.Tensor: shape=(), dtype=float32, numpy=-113.0>, extra=())\n",
            "loss_info=LossInfo(loss=<tf.Tensor: shape=(), dtype=float32, numpy=-124.0>, extra=())\n",
            "loss_info=LossInfo(loss=<tf.Tensor: shape=(), dtype=float32, numpy=-115.0>, extra=())\n",
            "loss_info=LossInfo(loss=<tf.Tensor: shape=(), dtype=float32, numpy=-136.0>, extra=())\n",
            "loss_info=LossInfo(loss=<tf.Tensor: shape=(), dtype=float32, numpy=-139.0>, extra=())\n",
            "loss_info=LossInfo(loss=<tf.Tensor: shape=(), dtype=float32, numpy=-128.0>, extra=())\n",
            "loss_info=LossInfo(loss=<tf.Tensor: shape=(), dtype=float32, numpy=-130.0>, extra=())\n",
            "loss_info=LossInfo(loss=<tf.Tensor: shape=(), dtype=float32, numpy=-133.0>, extra=())\n",
            "loss_info=LossInfo(loss=<tf.Tensor: shape=(), dtype=float32, numpy=-139.0>, extra=())\n",
            "loss_info=LossInfo(loss=<tf.Tensor: shape=(), dtype=float32, numpy=-137.0>, extra=())\n",
            "loss_info=LossInfo(loss=<tf.Tensor: shape=(), dtype=float32, numpy=-142.0>, extra=())\n",
            "loss_info=LossInfo(loss=<tf.Tensor: shape=(), dtype=float32, numpy=-140.0>, extra=())\n",
            "loss_info=LossInfo(loss=<tf.Tensor: shape=(), dtype=float32, numpy=-126.0>, extra=())\n",
            "loss_info=LossInfo(loss=<tf.Tensor: shape=(), dtype=float32, numpy=-120.0>, extra=())\n",
            "loss_info=LossInfo(loss=<tf.Tensor: shape=(), dtype=float32, numpy=-137.0>, extra=())\n",
            "loss_info=LossInfo(loss=<tf.Tensor: shape=(), dtype=float32, numpy=-137.0>, extra=())\n",
            "loss_info=LossInfo(loss=<tf.Tensor: shape=(), dtype=float32, numpy=-137.0>, extra=())\n",
            "loss_info=LossInfo(loss=<tf.Tensor: shape=(), dtype=float32, numpy=-145.0>, extra=())\n",
            "loss_info=LossInfo(loss=<tf.Tensor: shape=(), dtype=float32, numpy=-134.0>, extra=())\n",
            "loss_info=LossInfo(loss=<tf.Tensor: shape=(), dtype=float32, numpy=-132.0>, extra=())\n",
            "loss_info=LossInfo(loss=<tf.Tensor: shape=(), dtype=float32, numpy=-140.0>, extra=())\n",
            "loss_info=LossInfo(loss=<tf.Tensor: shape=(), dtype=float32, numpy=-137.0>, extra=())\n",
            "loss_info=LossInfo(loss=<tf.Tensor: shape=(), dtype=float32, numpy=-139.0>, extra=())\n",
            "loss_info=LossInfo(loss=<tf.Tensor: shape=(), dtype=float32, numpy=-140.0>, extra=())\n",
            "loss_info=LossInfo(loss=<tf.Tensor: shape=(), dtype=float32, numpy=-142.0>, extra=())\n",
            "loss_info=LossInfo(loss=<tf.Tensor: shape=(), dtype=float32, numpy=-147.0>, extra=())\n",
            "loss_info=LossInfo(loss=<tf.Tensor: shape=(), dtype=float32, numpy=-135.0>, extra=())\n",
            "loss_info=LossInfo(loss=<tf.Tensor: shape=(), dtype=float32, numpy=-135.0>, extra=())\n",
            "loss_info=LossInfo(loss=<tf.Tensor: shape=(), dtype=float32, numpy=-133.0>, extra=())\n",
            "loss_info=LossInfo(loss=<tf.Tensor: shape=(), dtype=float32, numpy=-139.0>, extra=())\n",
            "loss_info=LossInfo(loss=<tf.Tensor: shape=(), dtype=float32, numpy=-138.0>, extra=())\n",
            "loss_info=LossInfo(loss=<tf.Tensor: shape=(), dtype=float32, numpy=-141.0>, extra=())\n",
            "loss_info=LossInfo(loss=<tf.Tensor: shape=(), dtype=float32, numpy=-135.0>, extra=())\n",
            "loss_info=LossInfo(loss=<tf.Tensor: shape=(), dtype=float32, numpy=-134.0>, extra=())\n",
            "loss_info=LossInfo(loss=<tf.Tensor: shape=(), dtype=float32, numpy=-133.0>, extra=())\n",
            "loss_info=LossInfo(loss=<tf.Tensor: shape=(), dtype=float32, numpy=-138.0>, extra=())\n",
            "loss_info=LossInfo(loss=<tf.Tensor: shape=(), dtype=float32, numpy=-141.0>, extra=())\n",
            "loss_info=LossInfo(loss=<tf.Tensor: shape=(), dtype=float32, numpy=-136.0>, extra=())\n",
            "loss_info=LossInfo(loss=<tf.Tensor: shape=(), dtype=float32, numpy=-143.0>, extra=())\n",
            "loss_info=LossInfo(loss=<tf.Tensor: shape=(), dtype=float32, numpy=-141.0>, extra=())\n",
            "loss_info=LossInfo(loss=<tf.Tensor: shape=(), dtype=float32, numpy=-144.0>, extra=())\n",
            "loss_info=LossInfo(loss=<tf.Tensor: shape=(), dtype=float32, numpy=-139.0>, extra=())\n",
            "loss_info=LossInfo(loss=<tf.Tensor: shape=(), dtype=float32, numpy=-130.0>, extra=())\n",
            "loss_info=LossInfo(loss=<tf.Tensor: shape=(), dtype=float32, numpy=-145.0>, extra=())\n",
            "loss_info=LossInfo(loss=<tf.Tensor: shape=(), dtype=float32, numpy=-151.0>, extra=())\n",
            "loss_info=LossInfo(loss=<tf.Tensor: shape=(), dtype=float32, numpy=-135.0>, extra=())\n",
            "loss_info=LossInfo(loss=<tf.Tensor: shape=(), dtype=float32, numpy=-145.0>, extra=())\n",
            "loss_info=LossInfo(loss=<tf.Tensor: shape=(), dtype=float32, numpy=-151.0>, extra=())\n",
            "loss_info=LossInfo(loss=<tf.Tensor: shape=(), dtype=float32, numpy=-149.0>, extra=())\n",
            "loss_info=LossInfo(loss=<tf.Tensor: shape=(), dtype=float32, numpy=-143.0>, extra=())\n",
            "loss_info=LossInfo(loss=<tf.Tensor: shape=(), dtype=float32, numpy=-145.0>, extra=())\n",
            "loss_info=LossInfo(loss=<tf.Tensor: shape=(), dtype=float32, numpy=-137.0>, extra=())\n",
            "loss_info=LossInfo(loss=<tf.Tensor: shape=(), dtype=float32, numpy=-143.0>, extra=())\n",
            "loss_info=LossInfo(loss=<tf.Tensor: shape=(), dtype=float32, numpy=-146.0>, extra=())\n",
            "loss_info=LossInfo(loss=<tf.Tensor: shape=(), dtype=float32, numpy=-140.0>, extra=())\n",
            "loss_info=LossInfo(loss=<tf.Tensor: shape=(), dtype=float32, numpy=-138.0>, extra=())\n",
            "loss_info=LossInfo(loss=<tf.Tensor: shape=(), dtype=float32, numpy=-132.0>, extra=())\n",
            "loss_info=LossInfo(loss=<tf.Tensor: shape=(), dtype=float32, numpy=-145.0>, extra=())\n",
            "loss_info=LossInfo(loss=<tf.Tensor: shape=(), dtype=float32, numpy=-148.0>, extra=())\n",
            "loss_info=LossInfo(loss=<tf.Tensor: shape=(), dtype=float32, numpy=-148.0>, extra=())\n",
            "loss_info=LossInfo(loss=<tf.Tensor: shape=(), dtype=float32, numpy=-133.0>, extra=())\n",
            "loss_info=LossInfo(loss=<tf.Tensor: shape=(), dtype=float32, numpy=-147.0>, extra=())\n",
            "loss_info=LossInfo(loss=<tf.Tensor: shape=(), dtype=float32, numpy=-142.0>, extra=())\n",
            "loss_info=LossInfo(loss=<tf.Tensor: shape=(), dtype=float32, numpy=-133.0>, extra=())\n",
            "loss_info=LossInfo(loss=<tf.Tensor: shape=(), dtype=float32, numpy=-136.0>, extra=())\n",
            "\n"
          ],
          "name": "stdout"
        }
      ]
    },
    {
      "cell_type": "code",
      "metadata": {
        "id": "jqo41BBZXLZh",
        "colab": {
          "base_uri": "https://localhost:8080/",
          "height": 464
        },
        "outputId": "f7bc6a25-ba6d-4401-cc6e-b0b4cde2e294"
      },
      "source": [
        "plot_regret(metrics['regret'], {'algorithm': 'LinUCB'})"
      ],
      "execution_count": 71,
      "outputs": [
        {
          "output_type": "display_data",
          "data": {
            "image/png": "[encoded data removed]",
            "text/plain": [
              "<Figure size 720x504 with 1 Axes>"
            ]
          },
          "metadata": {
            "tags": []
          }
        }
      ]
    },
    {
      "cell_type": "code",
      "metadata": {
        "id": "twY91LYsehYx",
        "colab": {
          "base_uri": "https://localhost:8080/",
          "height": 464
        },
        "outputId": "f8c089d1-5048-48b3-b751-4496f519e6e7"
      },
      "source": [
        "plt.figure(figsize=(10, 7))\n",
        "plt.plot(metrics['suboptimal_arms'])\n",
        "plt.title('Regret of LinUCB on the Linear per-arm environment')\n",
        "plt.xlabel('Number of Iterations')\n",
        "_ = plt.ylabel('Average Regret')"
      ],
      "execution_count": 19,
      "outputs": [
        {
          "output_type": "display_data",
          "data": {
            "image/png": "[encoded data removed]",
            "text/plain": [
              "<Figure size 720x504 with 1 Axes>"
            ]
          },
          "metadata": {
            "tags": []
          }
        }
      ]
    },
    {
      "cell_type": "code",
      "metadata": {
        "id": "XYdibk130cGM"
      },
      "source": [
        ""
      ],
      "execution_count": 19,
      "outputs": []
    }
  ]
}